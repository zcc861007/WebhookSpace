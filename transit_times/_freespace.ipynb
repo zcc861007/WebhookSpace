{
 "cells": [
  {
   "cell_type": "code",
   "execution_count": 1,
   "metadata": {},
   "outputs": [],
   "source": [
    "import os\n",
    "import datetime\n",
    "import time"
   ]
  },
  {
   "cell_type": "code",
   "execution_count": 2,
   "metadata": {},
   "outputs": [
    {
     "data": {
      "text/plain": [
       "'c:\\\\Projects\\\\Musket\\\\WebhookSpace\\\\transit_times'"
      ]
     },
     "execution_count": 2,
     "metadata": {},
     "output_type": "execute_result"
    }
   ],
   "source": [
    "os.getcwd()"
   ]
  },
  {
   "cell_type": "code",
   "execution_count": 3,
   "metadata": {},
   "outputs": [
    {
     "name": "stdout",
     "output_type": "stream",
     "text": [
      "2025-09-12\n"
     ]
    }
   ],
   "source": [
    "date_now = datetime.datetime.now()\n",
    "two_months_ago = date_now - datetime.timedelta(days=30)\n",
    "two_months_ago = two_months_ago.strftime('%Y-%m-%d')\n",
    "print(two_months_ago)"
   ]
  },
  {
   "cell_type": "code",
   "execution_count": 4,
   "metadata": {},
   "outputs": [
    {
     "name": "stdout",
     "output_type": "stream",
     "text": [
      "000 | 2025-07-29 | Deleting Disty-2025-07-29.png\n",
      "001 | 2025-07-30 | Deleting Disty-2025-07-30.png\n",
      "002 | 2025-07-31 | Deleting Disty-2025-07-31.png\n",
      "003 | 2025-08-01 | Deleting Disty-2025-08-01.png\n",
      "004 | 2025-08-02 | Deleting Disty-2025-08-02.png\n",
      "005 | 2025-08-03 | Deleting Disty-2025-08-03.png\n",
      "006 | 2025-08-04 | Deleting Disty-2025-08-04.png\n",
      "007 | 2025-08-05 | Deleting Disty-2025-08-05.png\n",
      "008 | 2025-08-06 | Deleting Disty-2025-08-06.png\n",
      "009 | 2025-08-07 | Deleting Disty-2025-08-07.png\n",
      "010 | 2025-08-08 | Deleting Disty-2025-08-08.png\n",
      "011 | 2025-08-09 | Deleting Disty-2025-08-09.png\n",
      "012 | 2025-08-10 | Deleting Disty-2025-08-10.png\n",
      "013 | 2025-08-11 | Deleting Disty-2025-08-11.png\n",
      "014 | 2025-08-12 | Deleting Disty-2025-08-12.png\n",
      "015 | 2025-08-13 | Deleting Disty-2025-08-13.png\n",
      "016 | 2025-08-14 | Deleting Disty-2025-08-14.png\n",
      "017 | 2025-08-15 | Deleting Disty-2025-08-15.png\n",
      "018 | 2025-08-16 | Deleting Disty-2025-08-16.png\n",
      "019 | 2025-08-17 | Deleting Disty-2025-08-17.png\n",
      "020 | 2025-08-18 | Deleting Disty-2025-08-18.png\n",
      "021 | 2025-08-19 | Deleting Disty-2025-08-19.png\n",
      "022 | 2025-08-20 | Deleting Disty-2025-08-20.png\n",
      "023 | 2025-08-21 | Deleting Disty-2025-08-21.png\n",
      "024 | 2025-08-22 | Deleting Disty-2025-08-22.png\n",
      "025 | 2025-08-23 | Deleting Disty-2025-08-23.png\n",
      "026 | 2025-08-24 | Deleting Disty-2025-08-24.png\n",
      "027 | 2025-08-25 | Deleting Disty-2025-08-25.png\n",
      "028 | 2025-08-26 | Deleting Disty-2025-08-26.png\n",
      "029 | 2025-08-27 | Deleting Disty-2025-08-27.png\n",
      "030 | 2025-08-28 | Deleting Disty-2025-08-28.png\n",
      "031 | 2025-08-29 | Deleting Disty-2025-08-29.png\n",
      "032 | 2025-08-30 | Deleting Disty-2025-08-30.png\n",
      "033 | 2025-08-31 | Deleting Disty-2025-08-31.png\n",
      "034 | 2025-09-01 | Deleting Disty-2025-09-01.png\n",
      "035 | 2025-09-02 | Deleting Disty-2025-09-02.png\n",
      "036 | 2025-09-03 | Deleting Disty-2025-09-03.png\n",
      "037 | 2025-09-04 | Deleting Disty-2025-09-04.png\n",
      "038 | 2025-09-05 | Deleting Disty-2025-09-05.png\n",
      "039 | 2025-09-07 | Deleting Disty-2025-09-07.png\n",
      "040 | 2025-09-08 | Deleting Disty-2025-09-08.png\n",
      "041 | 2025-09-09 | Deleting Disty-2025-09-09.png\n",
      "042 | 2025-09-10 | Deleting Disty-2025-09-10.png\n",
      "043 | 2025-09-11 | Deleting Disty-2025-09-11.png\n",
      "070 | 2025-07-29 | Deleting Gas-2025-07-29.png\n",
      "071 | 2025-07-30 | Deleting Gas-2025-07-30.png\n",
      "072 | 2025-07-31 | Deleting Gas-2025-07-31.png\n",
      "073 | 2025-08-01 | Deleting Gas-2025-08-01.png\n",
      "074 | 2025-08-02 | Deleting Gas-2025-08-02.png\n",
      "075 | 2025-08-03 | Deleting Gas-2025-08-03.png\n",
      "076 | 2025-08-04 | Deleting Gas-2025-08-04.png\n",
      "077 | 2025-08-05 | Deleting Gas-2025-08-05.png\n",
      "078 | 2025-08-06 | Deleting Gas-2025-08-06.png\n",
      "079 | 2025-08-07 | Deleting Gas-2025-08-07.png\n",
      "080 | 2025-08-08 | Deleting Gas-2025-08-08.png\n",
      "081 | 2025-08-09 | Deleting Gas-2025-08-09.png\n",
      "082 | 2025-08-10 | Deleting Gas-2025-08-10.png\n",
      "083 | 2025-08-11 | Deleting Gas-2025-08-11.png\n",
      "084 | 2025-08-12 | Deleting Gas-2025-08-12.png\n",
      "085 | 2025-08-13 | Deleting Gas-2025-08-13.png\n",
      "086 | 2025-08-14 | Deleting Gas-2025-08-14.png\n",
      "087 | 2025-08-15 | Deleting Gas-2025-08-15.png\n",
      "088 | 2025-08-16 | Deleting Gas-2025-08-16.png\n",
      "089 | 2025-08-17 | Deleting Gas-2025-08-17.png\n",
      "090 | 2025-08-18 | Deleting Gas-2025-08-18.png\n",
      "091 | 2025-08-19 | Deleting Gas-2025-08-19.png\n",
      "092 | 2025-08-20 | Deleting Gas-2025-08-20.png\n",
      "093 | 2025-08-21 | Deleting Gas-2025-08-21.png\n",
      "094 | 2025-08-22 | Deleting Gas-2025-08-22.png\n",
      "095 | 2025-08-23 | Deleting Gas-2025-08-23.png\n",
      "096 | 2025-08-24 | Deleting Gas-2025-08-24.png\n",
      "097 | 2025-08-25 | Deleting Gas-2025-08-25.png\n",
      "098 | 2025-08-26 | Deleting Gas-2025-08-26.png\n",
      "099 | 2025-08-27 | Deleting Gas-2025-08-27.png\n",
      "100 | 2025-08-28 | Deleting Gas-2025-08-28.png\n",
      "101 | 2025-08-29 | Deleting Gas-2025-08-29.png\n",
      "102 | 2025-08-30 | Deleting Gas-2025-08-30.png\n",
      "103 | 2025-08-31 | Deleting Gas-2025-08-31.png\n",
      "104 | 2025-09-01 | Deleting Gas-2025-09-01.png\n",
      "105 | 2025-09-02 | Deleting Gas-2025-09-02.png\n",
      "106 | 2025-09-03 | Deleting Gas-2025-09-03.png\n",
      "107 | 2025-09-04 | Deleting Gas-2025-09-04.png\n",
      "108 | 2025-09-05 | Deleting Gas-2025-09-05.png\n",
      "109 | 2025-09-07 | Deleting Gas-2025-09-07.png\n",
      "110 | 2025-09-08 | Deleting Gas-2025-09-08.png\n",
      "111 | 2025-09-09 | Deleting Gas-2025-09-09.png\n",
      "112 | 2025-09-10 | Deleting Gas-2025-09-10.png\n",
      "113 | 2025-09-11 | Deleting Gas-2025-09-11.png\n"
     ]
    }
   ],
   "source": [
    "# Read all png files in the current directory\n",
    "files = [f for f in os.listdir('.') if f.endswith('.png')]\n",
    "for i, file in enumerate(files):\n",
    "    # file_date = datetime.datetime.fromtimestamp(os.path.getmtime(file))\n",
    "    file_date = file[-14:-4]\n",
    "    # print(file_date)\n",
    "    if file_date < two_months_ago:\n",
    "        print(f\"{str(i).zfill(3)} | {file_date} | Deleting {file}\")\n",
    "        os.remove(file)\n",
    "        # time.sleep(1)\n",
    "    else:\n",
    "        pass\n",
    "        # print(f\"{str(i).zfill(3)} | {file_date} | Keeping {file}\")"
   ]
  },
  {
   "cell_type": "code",
   "execution_count": null,
   "metadata": {},
   "outputs": [],
   "source": []
  }
 ],
 "metadata": {
  "kernelspec": {
   "display_name": "env-pytorch",
   "language": "python",
   "name": "python3"
  },
  "language_info": {
   "codemirror_mode": {
    "name": "ipython",
    "version": 3
   },
   "file_extension": ".py",
   "mimetype": "text/x-python",
   "name": "python",
   "nbconvert_exporter": "python",
   "pygments_lexer": "ipython3",
   "version": "3.9.21"
  }
 },
 "nbformat": 4,
 "nbformat_minor": 2
}
