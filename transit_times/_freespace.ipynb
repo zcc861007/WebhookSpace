{
 "cells": [
  {
   "cell_type": "code",
   "execution_count": 1,
   "metadata": {},
   "outputs": [],
   "source": [
    "import os\n",
    "import datetime\n",
    "import time"
   ]
  },
  {
   "cell_type": "code",
   "execution_count": 2,
   "metadata": {},
   "outputs": [
    {
     "data": {
      "text/plain": [
       "'c:\\\\Projects\\\\Musket\\\\WebhookSpace\\\\transit_times'"
      ]
     },
     "execution_count": 2,
     "metadata": {},
     "output_type": "execute_result"
    }
   ],
   "source": [
    "os.getcwd()"
   ]
  },
  {
   "cell_type": "code",
   "execution_count": 3,
   "metadata": {},
   "outputs": [
    {
     "name": "stdout",
     "output_type": "stream",
     "text": [
      "2025-07-29\n"
     ]
    }
   ],
   "source": [
    "date_now = datetime.datetime.now()\n",
    "two_months_ago = date_now - datetime.timedelta(days=30)\n",
    "two_months_ago = two_months_ago.strftime('%Y-%m-%d')\n",
    "print(two_months_ago)"
   ]
  },
  {
   "cell_type": "code",
   "execution_count": 4,
   "metadata": {},
   "outputs": [
    {
     "name": "stdout",
     "output_type": "stream",
     "text": [
      "000 | 2025-05-22 | Deleting Disty-2025-05-22.png\n",
      "001 | 2025-05-23 | Deleting Disty-2025-05-23.png\n",
      "002 | 2025-05-24 | Deleting Disty-2025-05-24.png\n",
      "003 | 2025-05-25 | Deleting Disty-2025-05-25.png\n",
      "004 | 2025-05-26 | Deleting Disty-2025-05-26.png\n",
      "005 | 2025-05-27 | Deleting Disty-2025-05-27.png\n",
      "006 | 2025-05-28 | Deleting Disty-2025-05-28.png\n",
      "007 | 2025-05-29 | Deleting Disty-2025-05-29.png\n",
      "008 | 2025-05-30 | Deleting Disty-2025-05-30.png\n",
      "009 | 2025-05-31 | Deleting Disty-2025-05-31.png\n",
      "010 | 2025-06-01 | Deleting Disty-2025-06-01.png\n",
      "011 | 2025-06-02 | Deleting Disty-2025-06-02.png\n",
      "012 | 2025-06-03 | Deleting Disty-2025-06-03.png\n",
      "013 | 2025-06-04 | Deleting Disty-2025-06-04.png\n",
      "014 | 2025-06-05 | Deleting Disty-2025-06-05.png\n",
      "015 | 2025-06-06 | Deleting Disty-2025-06-06.png\n",
      "016 | 2025-06-07 | Deleting Disty-2025-06-07.png\n",
      "017 | 2025-06-08 | Deleting Disty-2025-06-08.png\n",
      "018 | 2025-06-09 | Deleting Disty-2025-06-09.png\n",
      "019 | 2025-06-10 | Deleting Disty-2025-06-10.png\n",
      "020 | 2025-06-11 | Deleting Disty-2025-06-11.png\n",
      "021 | 2025-06-12 | Deleting Disty-2025-06-12.png\n",
      "022 | 2025-06-13 | Deleting Disty-2025-06-13.png\n",
      "023 | 2025-06-14 | Deleting Disty-2025-06-14.png\n",
      "024 | 2025-06-15 | Deleting Disty-2025-06-15.png\n",
      "025 | 2025-06-16 | Deleting Disty-2025-06-16.png\n",
      "026 | 2025-06-17 | Deleting Disty-2025-06-17.png\n",
      "027 | 2025-06-18 | Deleting Disty-2025-06-18.png\n",
      "028 | 2025-06-19 | Deleting Disty-2025-06-19.png\n",
      "029 | 2025-06-20 | Deleting Disty-2025-06-20.png\n",
      "030 | 2025-06-21 | Deleting Disty-2025-06-21.png\n",
      "031 | 2025-06-22 | Deleting Disty-2025-06-22.png\n",
      "032 | 2025-06-23 | Deleting Disty-2025-06-23.png\n",
      "033 | 2025-06-24 | Deleting Disty-2025-06-24.png\n",
      "034 | 2025-06-25 | Deleting Disty-2025-06-25.png\n",
      "035 | 2025-06-26 | Deleting Disty-2025-06-26.png\n",
      "036 | 2025-06-27 | Deleting Disty-2025-06-27.png\n",
      "037 | 2025-06-28 | Deleting Disty-2025-06-28.png\n",
      "038 | 2025-06-29 | Deleting Disty-2025-06-29.png\n",
      "039 | 2025-06-30 | Deleting Disty-2025-06-30.png\n",
      "040 | 2025-07-01 | Deleting Disty-2025-07-01.png\n",
      "041 | 2025-07-02 | Deleting Disty-2025-07-02.png\n",
      "042 | 2025-07-03 | Deleting Disty-2025-07-03.png\n",
      "043 | 2025-07-04 | Deleting Disty-2025-07-04.png\n",
      "044 | 2025-07-05 | Deleting Disty-2025-07-05.png\n",
      "045 | 2025-07-06 | Deleting Disty-2025-07-06.png\n",
      "046 | 2025-07-07 | Deleting Disty-2025-07-07.png\n",
      "047 | 2025-07-08 | Deleting Disty-2025-07-08.png\n",
      "048 | 2025-07-09 | Deleting Disty-2025-07-09.png\n",
      "049 | 2025-07-10 | Deleting Disty-2025-07-10.png\n",
      "050 | 2025-07-11 | Deleting Disty-2025-07-11.png\n",
      "051 | 2025-07-12 | Deleting Disty-2025-07-12.png\n",
      "052 | 2025-07-13 | Deleting Disty-2025-07-13.png\n",
      "053 | 2025-07-14 | Deleting Disty-2025-07-14.png\n",
      "054 | 2025-07-15 | Deleting Disty-2025-07-15.png\n",
      "055 | 2025-07-16 | Deleting Disty-2025-07-16.png\n",
      "056 | 2025-07-17 | Deleting Disty-2025-07-17.png\n",
      "057 | 2025-07-18 | Deleting Disty-2025-07-18.png\n",
      "058 | 2025-07-19 | Deleting Disty-2025-07-19.png\n",
      "059 | 2025-07-20 | Deleting Disty-2025-07-20.png\n",
      "060 | 2025-07-21 | Deleting Disty-2025-07-21.png\n",
      "061 | 2025-07-22 | Deleting Disty-2025-07-22.png\n",
      "062 | 2025-07-23 | Deleting Disty-2025-07-23.png\n",
      "063 | 2025-07-24 | Deleting Disty-2025-07-24.png\n",
      "064 | 2025-07-25 | Deleting Disty-2025-07-25.png\n",
      "065 | 2025-07-26 | Deleting Disty-2025-07-26.png\n",
      "066 | 2025-07-27 | Deleting Disty-2025-07-27.png\n",
      "067 | 2025-07-28 | Deleting Disty-2025-07-28.png\n",
      "098 | 2025-05-22 | Deleting Gas-2025-05-22.png\n",
      "099 | 2025-05-23 | Deleting Gas-2025-05-23.png\n",
      "100 | 2025-05-24 | Deleting Gas-2025-05-24.png\n",
      "101 | 2025-05-25 | Deleting Gas-2025-05-25.png\n",
      "102 | 2025-05-26 | Deleting Gas-2025-05-26.png\n",
      "103 | 2025-05-27 | Deleting Gas-2025-05-27.png\n",
      "104 | 2025-05-28 | Deleting Gas-2025-05-28.png\n",
      "105 | 2025-05-29 | Deleting Gas-2025-05-29.png\n",
      "106 | 2025-05-30 | Deleting Gas-2025-05-30.png\n",
      "107 | 2025-05-31 | Deleting Gas-2025-05-31.png\n",
      "108 | 2025-06-01 | Deleting Gas-2025-06-01.png\n",
      "109 | 2025-06-02 | Deleting Gas-2025-06-02.png\n",
      "110 | 2025-06-03 | Deleting Gas-2025-06-03.png\n",
      "111 | 2025-06-04 | Deleting Gas-2025-06-04.png\n",
      "112 | 2025-06-05 | Deleting Gas-2025-06-05.png\n",
      "113 | 2025-06-06 | Deleting Gas-2025-06-06.png\n",
      "114 | 2025-06-07 | Deleting Gas-2025-06-07.png\n",
      "115 | 2025-06-08 | Deleting Gas-2025-06-08.png\n",
      "116 | 2025-06-09 | Deleting Gas-2025-06-09.png\n",
      "117 | 2025-06-10 | Deleting Gas-2025-06-10.png\n",
      "118 | 2025-06-11 | Deleting Gas-2025-06-11.png\n",
      "119 | 2025-06-12 | Deleting Gas-2025-06-12.png\n",
      "120 | 2025-06-13 | Deleting Gas-2025-06-13.png\n",
      "121 | 2025-06-14 | Deleting Gas-2025-06-14.png\n",
      "122 | 2025-06-15 | Deleting Gas-2025-06-15.png\n",
      "123 | 2025-06-16 | Deleting Gas-2025-06-16.png\n",
      "124 | 2025-06-17 | Deleting Gas-2025-06-17.png\n",
      "125 | 2025-06-18 | Deleting Gas-2025-06-18.png\n",
      "126 | 2025-06-19 | Deleting Gas-2025-06-19.png\n",
      "127 | 2025-06-20 | Deleting Gas-2025-06-20.png\n",
      "128 | 2025-06-21 | Deleting Gas-2025-06-21.png\n",
      "129 | 2025-06-22 | Deleting Gas-2025-06-22.png\n",
      "130 | 2025-06-23 | Deleting Gas-2025-06-23.png\n",
      "131 | 2025-06-24 | Deleting Gas-2025-06-24.png\n",
      "132 | 2025-06-25 | Deleting Gas-2025-06-25.png\n",
      "133 | 2025-06-26 | Deleting Gas-2025-06-26.png\n",
      "134 | 2025-06-27 | Deleting Gas-2025-06-27.png\n",
      "135 | 2025-06-28 | Deleting Gas-2025-06-28.png\n",
      "136 | 2025-06-29 | Deleting Gas-2025-06-29.png\n",
      "137 | 2025-06-30 | Deleting Gas-2025-06-30.png\n",
      "138 | 2025-07-01 | Deleting Gas-2025-07-01.png\n",
      "139 | 2025-07-02 | Deleting Gas-2025-07-02.png\n",
      "140 | 2025-07-03 | Deleting Gas-2025-07-03.png\n",
      "141 | 2025-07-04 | Deleting Gas-2025-07-04.png\n",
      "142 | 2025-07-05 | Deleting Gas-2025-07-05.png\n",
      "143 | 2025-07-06 | Deleting Gas-2025-07-06.png\n",
      "144 | 2025-07-07 | Deleting Gas-2025-07-07.png\n",
      "145 | 2025-07-08 | Deleting Gas-2025-07-08.png\n",
      "146 | 2025-07-09 | Deleting Gas-2025-07-09.png\n",
      "147 | 2025-07-10 | Deleting Gas-2025-07-10.png\n",
      "148 | 2025-07-11 | Deleting Gas-2025-07-11.png\n",
      "149 | 2025-07-12 | Deleting Gas-2025-07-12.png\n",
      "150 | 2025-07-13 | Deleting Gas-2025-07-13.png\n",
      "151 | 2025-07-14 | Deleting Gas-2025-07-14.png\n",
      "152 | 2025-07-15 | Deleting Gas-2025-07-15.png\n",
      "153 | 2025-07-16 | Deleting Gas-2025-07-16.png\n",
      "154 | 2025-07-17 | Deleting Gas-2025-07-17.png\n",
      "155 | 2025-07-18 | Deleting Gas-2025-07-18.png\n",
      "156 | 2025-07-19 | Deleting Gas-2025-07-19.png\n",
      "157 | 2025-07-20 | Deleting Gas-2025-07-20.png\n",
      "158 | 2025-07-21 | Deleting Gas-2025-07-21.png\n",
      "159 | 2025-07-22 | Deleting Gas-2025-07-22.png\n",
      "160 | 2025-07-23 | Deleting Gas-2025-07-23.png\n",
      "161 | 2025-07-24 | Deleting Gas-2025-07-24.png\n",
      "162 | 2025-07-25 | Deleting Gas-2025-07-25.png\n",
      "163 | 2025-07-26 | Deleting Gas-2025-07-26.png\n",
      "164 | 2025-07-27 | Deleting Gas-2025-07-27.png\n",
      "165 | 2025-07-28 | Deleting Gas-2025-07-28.png\n"
     ]
    }
   ],
   "source": [
    "# Read all png files in the current directory\n",
    "files = [f for f in os.listdir('.') if f.endswith('.png')]\n",
    "for i, file in enumerate(files):\n",
    "    # file_date = datetime.datetime.fromtimestamp(os.path.getmtime(file))\n",
    "    file_date = file[-14:-4]\n",
    "    # print(file_date)\n",
    "    if file_date < two_months_ago:\n",
    "        print(f\"{str(i).zfill(3)} | {file_date} | Deleting {file}\")\n",
    "        os.remove(file)\n",
    "        # time.sleep(1)\n",
    "    else:\n",
    "        pass\n",
    "        # print(f\"{str(i).zfill(3)} | {file_date} | Keeping {file}\")"
   ]
  },
  {
   "cell_type": "code",
   "execution_count": null,
   "metadata": {},
   "outputs": [],
   "source": []
  }
 ],
 "metadata": {
  "kernelspec": {
   "display_name": "env-pytorch",
   "language": "python",
   "name": "python3"
  },
  "language_info": {
   "codemirror_mode": {
    "name": "ipython",
    "version": 3
   },
   "file_extension": ".py",
   "mimetype": "text/x-python",
   "name": "python",
   "nbconvert_exporter": "python",
   "pygments_lexer": "ipython3",
   "version": "3.9.21"
  }
 },
 "nbformat": 4,
 "nbformat_minor": 2
}
