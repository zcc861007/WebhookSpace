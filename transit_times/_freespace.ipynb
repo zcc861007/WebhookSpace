{
 "cells": [
  {
   "cell_type": "code",
   "execution_count": 2,
   "metadata": {},
   "outputs": [],
   "source": [
    "import os\n",
    "import datetime\n",
    "import time"
   ]
  },
  {
   "cell_type": "code",
   "execution_count": 3,
   "metadata": {},
   "outputs": [
    {
     "data": {
      "text/plain": [
       "'/Users/czp3317/Desktop/Working/Projects/WebhookSpace/transit_times'"
      ]
     },
     "execution_count": 3,
     "metadata": {},
     "output_type": "execute_result"
    }
   ],
   "source": [
    "os.getcwd()"
   ]
  },
  {
   "cell_type": "code",
   "execution_count": 4,
   "metadata": {},
   "outputs": [
    {
     "name": "stdout",
     "output_type": "stream",
     "text": [
      "2025-02-17\n"
     ]
    }
   ],
   "source": [
    "date_now = datetime.datetime.now()\n",
    "two_months_ago = date_now - datetime.timedelta(days=30)\n",
    "two_months_ago = two_months_ago.strftime('%Y-%m-%d')\n",
    "print(two_months_ago)"
   ]
  },
  {
   "cell_type": "code",
   "execution_count": 5,
   "metadata": {},
   "outputs": [
    {
     "name": "stdout",
     "output_type": "stream",
     "text": [
      "000 | 2025-02-07 | Deleting Gas-2025-02-07.png\n",
      "001 | 2025-01-26 | Deleting Disty-2025-01-26.png\n",
      "002 | 2025-02-13 | Deleting Gas-2025-02-13.png\n",
      "003 | 2025-02-12 | Deleting Gas-2025-02-12.png\n",
      "004 | 2025-02-06 | Deleting Gas-2025-02-06.png\n",
      "005 | 2025-01-27 | Deleting Disty-2025-01-27.png\n",
      "006 | 2025-02-10 | Deleting Gas-2025-02-10.png\n",
      "007 | 2025-01-31 | Deleting Disty-2025-01-31.png\n",
      "008 | 2025-01-25 | Deleting Disty-2025-01-25.png\n",
      "009 | 2025-02-04 | Deleting Gas-2025-02-04.png\n",
      "010 | 2025-01-19 | Deleting Disty-2025-01-19.png\n",
      "013 | 2025-01-18 | Deleting Disty-2025-01-18.png\n",
      "014 | 2025-01-24 | Deleting Disty-2025-01-24.png\n",
      "015 | 2025-02-05 | Deleting Gas-2025-02-05.png\n",
      "016 | 2025-02-11 | Deleting Gas-2025-02-11.png\n",
      "017 | 2025-01-30 | Deleting Disty-2025-01-30.png\n",
      "018 | 2025-02-15 | Deleting Gas-2025-02-15.png\n",
      "019 | 2025-02-01 | Deleting Gas-2025-02-01.png\n",
      "020 | 2025-01-20 | Deleting Disty-2025-01-20.png\n",
      "022 | 2025-01-21 | Deleting Disty-2025-01-21.png\n",
      "023 | 2025-02-14 | Deleting Gas-2025-02-14.png\n",
      "025 | 2025-01-23 | Deleting Disty-2025-01-23.png\n",
      "026 | 2025-02-02 | Deleting Gas-2025-02-02.png\n",
      "027 | 2025-02-16 | Deleting Gas-2025-02-16.png\n",
      "029 | 2025-01-22 | Deleting Disty-2025-01-22.png\n",
      "030 | 2025-02-03 | Deleting Gas-2025-02-03.png\n",
      "032 | 2025-02-14 | Deleting Disty-2025-02-14.png\n",
      "033 | 2025-01-21 | Deleting Gas-2025-01-21.png\n",
      "035 | 2025-01-20 | Deleting Gas-2025-01-20.png\n",
      "036 | 2025-02-01 | Deleting Disty-2025-02-01.png\n",
      "037 | 2025-02-15 | Deleting Disty-2025-02-15.png\n",
      "038 | 2025-02-03 | Deleting Disty-2025-02-03.png\n",
      "039 | 2025-01-22 | Deleting Gas-2025-01-22.png\n",
      "041 | 2025-02-16 | Deleting Disty-2025-02-16.png\n",
      "042 | 2025-02-02 | Deleting Disty-2025-02-02.png\n",
      "043 | 2025-01-23 | Deleting Gas-2025-01-23.png\n",
      "044 | 2025-01-27 | Deleting Gas-2025-01-27.png\n",
      "045 | 2025-02-06 | Deleting Disty-2025-02-06.png\n",
      "046 | 2025-02-12 | Deleting Disty-2025-02-12.png\n",
      "047 | 2025-02-13 | Deleting Disty-2025-02-13.png\n",
      "048 | 2025-01-26 | Deleting Gas-2025-01-26.png\n",
      "049 | 2025-02-07 | Deleting Disty-2025-02-07.png\n",
      "050 | 2025-01-30 | Deleting Gas-2025-01-30.png\n",
      "051 | 2025-02-11 | Deleting Disty-2025-02-11.png\n",
      "052 | 2025-02-05 | Deleting Disty-2025-02-05.png\n",
      "053 | 2025-01-24 | Deleting Gas-2025-01-24.png\n",
      "054 | 2025-01-18 | Deleting Gas-2025-01-18.png\n",
      "057 | 2025-01-19 | Deleting Gas-2025-01-19.png\n",
      "058 | 2025-02-04 | Deleting Disty-2025-02-04.png\n",
      "059 | 2025-01-25 | Deleting Gas-2025-01-25.png\n",
      "060 | 2025-01-31 | Deleting Gas-2025-01-31.png\n",
      "061 | 2025-02-10 | Deleting Disty-2025-02-10.png\n",
      "062 | 2025-02-09 | Deleting Disty-2025-02-09.png\n",
      "063 | 2025-01-28 | Deleting Gas-2025-01-28.png\n",
      "070 | 2025-02-08 | Deleting Disty-2025-02-08.png\n",
      "071 | 2025-01-29 | Deleting Gas-2025-01-29.png\n",
      "104 | 2025-01-29 | Deleting Disty-2025-01-29.png\n",
      "105 | 2025-02-08 | Deleting Gas-2025-02-08.png\n",
      "112 | 2025-01-28 | Deleting Disty-2025-01-28.png\n",
      "113 | 2025-02-09 | Deleting Gas-2025-02-09.png\n"
     ]
    }
   ],
   "source": [
    "# Read all png files in the current directory\n",
    "files = [f for f in os.listdir('.') if f.endswith('.png')]\n",
    "for i, file in enumerate(files):\n",
    "    # file_date = datetime.datetime.fromtimestamp(os.path.getmtime(file))\n",
    "    file_date = file[-14:-4]\n",
    "    # print(file_date)\n",
    "    if file_date < two_months_ago:\n",
    "        print(f\"{str(i).zfill(3)} | {file_date} | Deleting {file}\")\n",
    "        os.remove(file)\n",
    "        # time.sleep(1)\n",
    "    else:\n",
    "        pass\n",
    "        # print(f\"{str(i).zfill(3)} | {file_date} | Keeping {file}\")"
   ]
  },
  {
   "cell_type": "code",
   "execution_count": null,
   "metadata": {},
   "outputs": [],
   "source": []
  }
 ],
 "metadata": {
  "kernelspec": {
   "display_name": "Python 3",
   "language": "python",
   "name": "python3"
  },
  "language_info": {
   "codemirror_mode": {
    "name": "ipython",
    "version": 3
   },
   "file_extension": ".py",
   "mimetype": "text/x-python",
   "name": "python",
   "nbconvert_exporter": "python",
   "pygments_lexer": "ipython3",
   "version": "3.11.0"
  }
 },
 "nbformat": 4,
 "nbformat_minor": 2
}
