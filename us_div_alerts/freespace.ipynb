{
 "cells": [
  {
   "cell_type": "code",
   "execution_count": 4,
   "metadata": {},
   "outputs": [],
   "source": [
    "import os\n",
    "import datetime\n",
    "import time"
   ]
  },
  {
   "cell_type": "code",
   "execution_count": 2,
   "metadata": {},
   "outputs": [
    {
     "data": {
      "text/plain": [
       "'/Users/czp3317/Desktop/Working/Projects/WebhookSpace/us_div_alerts'"
      ]
     },
     "execution_count": 2,
     "metadata": {},
     "output_type": "execute_result"
    }
   ],
   "source": [
    "os.getcwd()"
   ]
  },
  {
   "cell_type": "code",
   "execution_count": 12,
   "metadata": {},
   "outputs": [
    {
     "name": "stdout",
     "output_type": "stream",
     "text": [
      "2025-02-10\n"
     ]
    }
   ],
   "source": [
    "# date_now = datetime.datetime.now()\n",
    "# two_months_ago = date_now - datetime.timedelta(days=60)\n",
    "# two_months_ago = two_months_ago.strftime('%Y-%m-%d')\n",
    "two_months_ago = '2025-02-10'\n",
    "print(two_months_ago)"
   ]
  },
  {
   "cell_type": "code",
   "execution_count": 13,
   "metadata": {},
   "outputs": [
    {
     "name": "stdout",
     "output_type": "stream",
     "text": [
      "000 | 2025-02-05 | Deleting 9919773_2025-02-05_09-00-37.png\n",
      "003 | 2025-02-04 | Deleting 9681156_2025-02-04_14-44-09.png\n",
      "006 | 2025-02-05 | Deleting 9681156_2025-02-05_08-02-55.png\n",
      "009 | 2025-02-04 | Deleting 9664770_2025-02-04_23-35-04.png\n",
      "014 | 2025-02-04 | Deleting 9478298_2025-02-04_20-51-48.png\n",
      "020 | 2025-02-08 | Deleting 9590711_2025-02-08_12-17-48.png\n",
      "025 | 2025-02-06 | Deleting 9581667_2025-02-06_09-15-22.png\n",
      "029 | 2025-02-04 | Deleting 9923750_2025-02-04_17-41-27.png\n",
      "033 | 2025-02-09 | Deleting 9692301_2025-02-09_08-59-48.png\n",
      "034 | 2025-02-04 | Deleting 9681390_2025-02-04_09-23-41.png\n",
      "036 | 2025-02-05 | Deleting 9732230_2025-02-05_07-59-22.png\n",
      "042 | 2025-02-05 | Deleting 9478298_2025-02-05_00-52-09.png\n",
      "045 | 2025-02-07 | Deleting 9790373_2025-02-07_18-11-09.png\n",
      "047 | 2025-02-05 | Deleting 9681156_2025-02-05_03-02-26.png\n",
      "048 | 2025-02-08 | Deleting 9718844_2025-02-08_04-50-50.png\n",
      "050 | 2025-02-04 | Deleting 9664770_2025-02-04_21-22-15.png\n",
      "055 | 2025-02-03 | Deleting 9681156_2025-02-03_17-51-54.png\n",
      "057 | 2025-02-05 | Deleting 9478298_2025-02-05_08-55-27.png\n",
      "058 | 2025-02-05 | Deleting 9681156_2025-02-05_12-17-25.png\n",
      "059 | 2025-02-07 | Deleting 9697612_2025-02-07_17-57-12.png\n",
      "064 | 2025-02-04 | Deleting 9590711_2025-02-04_22-10-58.png\n",
      "066 | 2025-02-05 | Deleting 9664770_2025-02-05_03-22-23.png\n",
      "067 | 2025-02-04 | Deleting 9923750_2025-02-04_16-26-41.png\n",
      "069 | 2025-02-03 | Deleting 9682320_2025-02-03_14-53-32.png\n",
      "071 | 2025-02-06 | Deleting 9718806_2025-02-06_04-59-03.png\n",
      "074 | 2025-02-09 | Deleting 9479838_2025-02-09_14-27-38.png\n",
      "086 | 2025-02-07 | Deleting 9231614_2025-02-07_15-57-58.png\n",
      "092 | 2025-02-08 | Deleting 9923750_2025-02-08_04-40-19.png\n",
      "094 | 2025-02-07 | Deleting 9682320_2025-02-07_19-56-13.png\n",
      "095 | 2025-02-05 | Deleting 9664770_2025-02-05_06-39-04.png\n",
      "102 | 2025-02-04 | Deleting 9681156_2025-02-04_16-53-17.png\n",
      "103 | 2025-02-07 | Deleting 9681390_2025-02-07_20-52-10.png\n",
      "104 | 2025-02-07 | Deleting 9692337_2025-02-07_05-57-01.png\n",
      "105 | 2025-02-04 | Deleting 9681156_2025-02-04_18-51-25.png\n",
      "110 | 2025-02-04 | Deleting 9681390_2025-02-04_16-29-59.png\n",
      "114 | 2025-02-07 | Deleting 9293961_2025-02-07_17-59-16.png\n",
      "116 | 2025-02-04 | Deleting 9366263_2025-02-04_15-00-01.png\n",
      "126 | 2025-02-05 | Deleting 9681156_2025-02-05_00-03-04.png\n",
      "128 | 2025-02-03 | Deleting 9681390_2025-02-03_16-10-52.png\n",
      "130 | 2025-02-05 | Deleting 9478298_2025-02-05_04-52-31.png\n",
      "134 | 2025-02-05 | Deleting 9919773_2025-02-05_11-29-25.png\n",
      "141 | 2025-02-05 | Deleting 9664770_2025-02-05_10-44-34.png\n",
      "142 | 2025-02-05 | Deleting 9478298_2025-02-05_12-50-59.png\n",
      "143 | 2025-02-03 | Deleting 9905162_2025-02-03_14-59-25.png\n",
      "146 | 2025-02-06 | Deleting 9681156_2025-02-06_16-40-10.png\n"
     ]
    }
   ],
   "source": [
    "# Read all png files in the current directory\n",
    "files = [f for f in os.listdir('.') if f.endswith('.png')]\n",
    "for i, file in enumerate(files):\n",
    "    # file_date = datetime.datetime.fromtimestamp(os.path.getmtime(file))\n",
    "    file_date = file.split('_')[1]\n",
    "    # print(file_date)\n",
    "    if file_date < two_months_ago:\n",
    "        print(f\"{str(i).zfill(3)} | {file_date} | Deleting {file}\")\n",
    "        os.remove(file)\n",
    "        time.sleep(1)\n",
    "    else:\n",
    "        pass\n",
    "        # print(f\"{str(i).zfill(3)} | {file_date} | Keeping {file}\")"
   ]
  },
  {
   "cell_type": "code",
   "execution_count": null,
   "metadata": {},
   "outputs": [],
   "source": []
  }
 ],
 "metadata": {
  "kernelspec": {
   "display_name": "Python 3",
   "language": "python",
   "name": "python3"
  },
  "language_info": {
   "codemirror_mode": {
    "name": "ipython",
    "version": 3
   },
   "file_extension": ".py",
   "mimetype": "text/x-python",
   "name": "python",
   "nbconvert_exporter": "python",
   "pygments_lexer": "ipython3",
   "version": "3.11.0"
  }
 },
 "nbformat": 4,
 "nbformat_minor": 2
}
