{
 "cells": [
  {
   "cell_type": "code",
   "execution_count": 1,
   "metadata": {},
   "outputs": [],
   "source": [
    "import os\n",
    "import datetime\n",
    "import time"
   ]
  },
  {
   "cell_type": "code",
   "execution_count": 2,
   "metadata": {},
   "outputs": [
    {
     "data": {
      "text/plain": [
       "'/Users/czp3317/Desktop/Working/Projects/WebhookSpace/us_div_alerts'"
      ]
     },
     "execution_count": 2,
     "metadata": {},
     "output_type": "execute_result"
    }
   ],
   "source": [
    "os.getcwd()"
   ]
  },
  {
   "cell_type": "code",
   "execution_count": 3,
   "metadata": {},
   "outputs": [
    {
     "name": "stdout",
     "output_type": "stream",
     "text": [
      "2025-05-22\n"
     ]
    }
   ],
   "source": [
    "date_now = datetime.datetime.now()\n",
    "two_months_ago = date_now - datetime.timedelta(days=30)\n",
    "two_months_ago = two_months_ago.strftime('%Y-%m-%d')\n",
    "# two_months_ago = '2025-02-10'\n",
    "print(two_months_ago)"
   ]
  },
  {
   "cell_type": "code",
   "execution_count": 4,
   "metadata": {},
   "outputs": [
    {
     "name": "stdout",
     "output_type": "stream",
     "text": [
      "023 | 2025-04-12 | Deleting 9910337_2025-04-12_11-46-06.png\n",
      "024 | 2025-05-05 | Deleting 9884813_2025-05-05_23-53-11_flw.png\n",
      "025 | 2025-05-14 | Deleting 9911537_2025-05-14_10-30-55_flw.png\n",
      "026 | 2025-03-11 | Deleting 9845180_2025-03-11_11-53-50.png\n",
      "027 | 2025-03-27 | Deleting 9713856_2025-03-27_07-18-19.png\n",
      "028 | 2025-04-28 | Deleting 9798349_2025-04-28_07-47-20_flw.png\n",
      "029 | 2025-05-13 | Deleting 9682356_2025-05-13_19-41-34.png\n",
      "030 | 2025-05-19 | Deleting 9540821_2025-05-19_07-57-25.png\n",
      "031 | 2025-05-19 | Deleting 9540821_2025-05-19_07-57-25_flw.png\n",
      "033 | 2025-02-13 | Deleting 9790361_2025-02-13_04-59-52.png\n",
      "034 | 2025-03-16 | Deleting 9786190_2025-03-16_15-45-53.png\n",
      "035 | 2025-05-05 | Deleting 9323405_2025-05-05_23-44-58.png\n",
      "036 | 2025-03-18 | Deleting 9798351_2025-03-18_17-32-45.png\n",
      "037 | 2025-03-12 | Deleting 9387920_2025-03-12_23-28-31.png\n",
      "039 | 2025-02-26 | Deleting 9290660_2025-02-26_12-14-06.png\n",
      "040 | 2025-03-14 | Deleting 9765017_2025-03-14_11-58-06.png\n",
      "041 | 2025-04-30 | Deleting 9683350_2025-04-30_15-05-57_flw.png\n",
      "042 | 2025-04-13 | Deleting 9726463_2025-04-13_07-59-30.png\n",
      "044 | 2025-04-19 | Deleting 9893163_2025-04-19_07-49-44.png\n",
      "045 | 2025-04-16 | Deleting 9781279_2025-04-16_07-23-37_flw.png\n",
      "046 | 2025-02-11 | Deleting 9669938_2025-02-11_04-34-56.png\n",
      "048 | 2025-03-07 | Deleting 9392468_2025-03-07_20-51-37.png\n",
      "052 | 2025-04-12 | Deleting 9399923_2025-04-12_18-29-27_flw.png\n",
      "054 | 2025-04-08 | Deleting 9629706_2025-04-08_23-24-48_flw.png\n",
      "055 | 2025-02-12 | Deleting 9717761_2025-02-12_00-59-17.png\n",
      "056 | 2025-02-11 | Deleting 9379129_2025-02-11_20-08-30.png\n",
      "057 | 2025-04-18 | Deleting 9702211_2025-04-18_07-28-31_flw.png\n",
      "059 | 2025-04-19 | Deleting 9893163_2025-04-19_07-49-44_flw.png\n",
      "060 | 2025-05-18 | Deleting 9917854_2025-05-18_16-00-02_flw.png\n",
      "061 | 2025-04-26 | Deleting 9561370_2025-04-26_07-54-13.png\n"
     ]
    }
   ],
   "source": [
    "# Read all png files in the current directory\n",
    "files = [f for f in os.listdir('.') if f.endswith('.png')]\n",
    "for i, file in enumerate(files):\n",
    "    # file_date = datetime.datetime.fromtimestamp(os.path.getmtime(file))\n",
    "    file_date = file.split('_')[1]\n",
    "    # print(file_date)\n",
    "    if file_date < two_months_ago:\n",
    "        print(f\"{str(i).zfill(3)} | {file_date} | Deleting {file}\")\n",
    "        os.remove(file)\n",
    "        # time.sleep(1)\n",
    "    else:\n",
    "        pass\n",
    "        # print(f\"{str(i).zfill(3)} | {file_date} | Keeping {file}\")"
   ]
  },
  {
   "cell_type": "code",
   "execution_count": null,
   "metadata": {},
   "outputs": [],
   "source": []
  }
 ],
 "metadata": {
  "kernelspec": {
   "display_name": "Python 3",
   "language": "python",
   "name": "python3"
  },
  "language_info": {
   "codemirror_mode": {
    "name": "ipython",
    "version": 3
   },
   "file_extension": ".py",
   "mimetype": "text/x-python",
   "name": "python",
   "nbconvert_exporter": "python",
   "pygments_lexer": "ipython3",
   "version": "3.11.0"
  }
 },
 "nbformat": 4,
 "nbformat_minor": 2
}
