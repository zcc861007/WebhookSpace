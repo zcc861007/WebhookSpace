{
 "cells": [
  {
   "cell_type": "code",
   "execution_count": 1,
   "metadata": {},
   "outputs": [],
   "source": [
    "import os\n",
    "import datetime\n",
    "import time"
   ]
  },
  {
   "cell_type": "code",
   "execution_count": 2,
   "metadata": {},
   "outputs": [
    {
     "data": {
      "text/plain": [
       "'c:\\\\Projects\\\\Musket\\\\WebhookSpace\\\\us_div_alerts'"
      ]
     },
     "execution_count": 2,
     "metadata": {},
     "output_type": "execute_result"
    }
   ],
   "source": [
    "os.getcwd()"
   ]
  },
  {
   "cell_type": "code",
   "execution_count": 3,
   "metadata": {},
   "outputs": [
    {
     "name": "stdout",
     "output_type": "stream",
     "text": [
      "2025-07-29\n"
     ]
    }
   ],
   "source": [
    "date_now = datetime.datetime.now()\n",
    "two_months_ago = date_now - datetime.timedelta(days=30)\n",
    "two_months_ago = two_months_ago.strftime('%Y-%m-%d')\n",
    "# two_months_ago = '2025-02-10'\n",
    "print(two_months_ago)"
   ]
  },
  {
   "cell_type": "code",
   "execution_count": 4,
   "metadata": {},
   "outputs": [
    {
     "name": "stdout",
     "output_type": "stream",
     "text": [
      "000 | 2025-06-18 | Deleting 9252333_2025-06-18_15-36-28.png\n",
      "001 | 2025-06-18 | Deleting 9252333_2025-06-18_15-36-28_flw.png\n",
      "004 | 2025-06-27 | Deleting 9313436_2025-06-27_07-47-53.png\n",
      "007 | 2025-05-23 | Deleting 9337511_2025-05-23_19-36-48.png\n",
      "008 | 2025-05-24 | Deleting 9343194_2025-05-24_14-19-50.png\n",
      "009 | 2025-05-24 | Deleting 9343194_2025-05-24_14-19-50_flw.png\n",
      "011 | 2025-05-28 | Deleting 9378371_2025-05-28_08-00-06.png\n",
      "012 | 2025-06-27 | Deleting 9391440_2025-06-27_07-57-33.png\n",
      "017 | 2025-07-09 | Deleting 9459072_2025-07-09_19-58-59.png\n",
      "022 | 2025-05-29 | Deleting 9561370_2025-05-29_15-59-57.png\n",
      "023 | 2025-06-21 | Deleting 9590905_2025-06-21_07-29-45.png\n",
      "024 | 2025-06-28 | Deleting 9635822_2025-06-28_02-19-52.png\n",
      "026 | 2025-06-22 | Deleting 9655975_2025-06-22_02-21-30.png\n",
      "029 | 2025-07-08 | Deleting 9669926_2025-07-08_19-43-17.png\n",
      "030 | 2025-06-14 | Deleting 9681106_2025-06-14_13-32-42.png\n",
      "032 | 2025-05-29 | Deleting 9683348_2025-05-29_20-00-04.png\n",
      "033 | 2025-05-29 | Deleting 9683348_2025-05-29_20-00-04_flw.png\n",
      "034 | 2025-07-28 | Deleting 9686716_2025-07-28_11-57-03.png\n",
      "035 | 2025-06-17 | Deleting 9692387_2025-06-17_19-13-26.png\n",
      "040 | 2025-06-06 | Deleting 9788576_2025-06-06_19-59-46.png\n",
      "041 | 2025-06-06 | Deleting 9788576_2025-06-06_19-59-46_flw.png\n",
      "044 | 2025-07-09 | Deleting 9797254_2025-07-09_19-43-52.png\n",
      "047 | 2025-05-30 | Deleting 9798349_2025-05-30_18-58-55.png\n",
      "048 | 2025-05-30 | Deleting 9798349_2025-05-30_18-58-55_flw.png\n",
      "049 | 2025-05-23 | Deleting 9818527_2025-05-23_07-30-22.png\n",
      "050 | 2025-05-23 | Deleting 9818527_2025-05-23_07-30-22_flw.png\n",
      "053 | 2025-07-21 | Deleting 9833577_2025-07-21_14-27-09.png\n",
      "054 | 2025-07-16 | Deleting 9851701_2025-07-16_11-58-58.png\n",
      "055 | 2025-07-16 | Deleting 9851701_2025-07-16_11-58-58_flw.png\n",
      "056 | 2025-07-19 | Deleting 9857248_2025-07-19_03-54-18.png\n",
      "057 | 2025-06-29 | Deleting 9859208_2025-06-29_00-58-32.png\n",
      "058 | 2025-06-05 | Deleting 9873644_2025-06-05_06-16-01.png\n",
      "059 | 2025-06-10 | Deleting 9884813_2025-06-10_03-32-22.png\n",
      "060 | 2025-06-10 | Deleting 9884813_2025-06-10_03-32-22_flw.png\n",
      "061 | 2025-06-03 | Deleting 9884825_2025-06-03_18-43-24.png\n",
      "062 | 2025-06-03 | Deleting 9884825_2025-06-03_18-43-24_flw.png\n",
      "063 | 2025-06-05 | Deleting 9884837_2025-06-05_04-28-04.png\n",
      "064 | 2025-06-15 | Deleting 9898498_2025-06-15_23-37-47.png\n",
      "065 | 2025-06-15 | Deleting 9898498_2025-06-15_23-37-47_flw.png\n",
      "066 | 2025-07-12 | Deleting 9898527_2025-07-12_23-49-36.png\n",
      "067 | 2025-07-12 | Deleting 9898527_2025-07-12_23-49-36_flw.png\n",
      "068 | 2025-06-26 | Deleting 9899478_2025-06-26_23-50-44.png\n",
      "069 | 2025-06-26 | Deleting 9899478_2025-06-26_23-50-44_flw.png\n",
      "070 | 2025-06-29 | Deleting 9905423_2025-06-29_23-59-29.png\n",
      "071 | 2025-06-29 | Deleting 9905423_2025-06-29_23-59-29_flw.png\n",
      "072 | 2025-06-20 | Deleting 9907811_2025-06-20_23-50-35.png\n",
      "073 | 2025-07-27 | Deleting 9907811_2025-07-27_11-58-48.png\n",
      "074 | 2025-07-28 | Deleting 9910337_2025-07-28_23-54-19.png\n",
      "075 | 2025-07-28 | Deleting 9910337_2025-07-28_23-54-19_flw.png\n",
      "076 | 2025-06-01 | Deleting 9923748_2025-06-01_10-49-59.png\n",
      "077 | 2025-07-25 | Deleting 9933638_2025-07-25_11-58-02.png\n",
      "078 | 2025-07-04 | Deleting 9935935_2025-07-04_04-00-12.png\n",
      "079 | 2025-07-19 | Deleting 9935935_2025-07-19_18-22-47.png\n",
      "080 | 2025-07-19 | Deleting 9935935_2025-07-19_18-22-47_flw.png\n",
      "081 | 2025-06-02 | Deleting 9939620_2025-06-02_19-59-30.png\n",
      "082 | 2025-06-02 | Deleting 9939620_2025-06-02_19-59-30_flw.png\n",
      "083 | 2025-05-30 | Deleting 9943310_2025-05-30_11-59-32.png\n",
      "084 | 2025-06-20 | Deleting 9943346_2025-06-20_15-54-56.png\n",
      "085 | 2025-06-22 | Deleting 9960291_2025-06-22_05-51-55.png\n",
      "086 | 2025-06-22 | Deleting 9960291_2025-06-22_05-51-55_flw.png\n",
      "087 | 2025-05-30 | Deleting 9970363_2025-05-30_07-55-47.png\n"
     ]
    }
   ],
   "source": [
    "# Read all png files in the current directory\n",
    "files = [f for f in os.listdir('.') if f.endswith('.png')]\n",
    "for i, file in enumerate(files):\n",
    "    # file_date = datetime.datetime.fromtimestamp(os.path.getmtime(file))\n",
    "    file_date = file.split('_')[1]\n",
    "    # print(file_date)\n",
    "    if file_date < two_months_ago:\n",
    "        print(f\"{str(i).zfill(3)} | {file_date} | Deleting {file}\")\n",
    "        os.remove(file)\n",
    "        # time.sleep(1)\n",
    "    else:\n",
    "        pass\n",
    "        # print(f\"{str(i).zfill(3)} | {file_date} | Keeping {file}\")"
   ]
  },
  {
   "cell_type": "code",
   "execution_count": null,
   "metadata": {},
   "outputs": [],
   "source": []
  }
 ],
 "metadata": {
  "kernelspec": {
   "display_name": "env-pytorch",
   "language": "python",
   "name": "python3"
  },
  "language_info": {
   "codemirror_mode": {
    "name": "ipython",
    "version": 3
   },
   "file_extension": ".py",
   "mimetype": "text/x-python",
   "name": "python",
   "nbconvert_exporter": "python",
   "pygments_lexer": "ipython3",
   "version": "3.9.21"
  }
 },
 "nbformat": 4,
 "nbformat_minor": 2
}
