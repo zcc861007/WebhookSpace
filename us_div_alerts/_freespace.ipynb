{
 "cells": [
  {
   "cell_type": "code",
   "execution_count": 1,
   "metadata": {},
   "outputs": [],
   "source": [
    "import os\n",
    "import datetime\n",
    "import time"
   ]
  },
  {
   "cell_type": "code",
   "execution_count": 2,
   "metadata": {},
   "outputs": [
    {
     "data": {
      "text/plain": [
       "'c:\\\\Projects\\\\Musket\\\\WebhookSpace\\\\us_div_alerts'"
      ]
     },
     "execution_count": 2,
     "metadata": {},
     "output_type": "execute_result"
    }
   ],
   "source": [
    "os.getcwd()"
   ]
  },
  {
   "cell_type": "code",
   "execution_count": 3,
   "metadata": {},
   "outputs": [
    {
     "name": "stdout",
     "output_type": "stream",
     "text": [
      "2025-09-12\n"
     ]
    }
   ],
   "source": [
    "date_now = datetime.datetime.now()\n",
    "two_months_ago = date_now - datetime.timedelta(days=30)\n",
    "two_months_ago = two_months_ago.strftime('%Y-%m-%d')\n",
    "# two_months_ago = '2025-02-10'\n",
    "print(two_months_ago)"
   ]
  },
  {
   "cell_type": "code",
   "execution_count": 4,
   "metadata": {},
   "outputs": [
    {
     "name": "stdout",
     "output_type": "stream",
     "text": [
      "000 | 2025-08-20 | Deleting 9292345_2025-08-20_19-54-37.png\n",
      "001 | 2025-08-20 | Deleting 9292345_2025-08-20_19-54-37_flw.png\n",
      "002 | 2025-08-05 | Deleting 9335056_2025-08-05_15-53-22.png\n",
      "003 | 2025-08-05 | Deleting 9335056_2025-08-05_15-53-22_flw.png\n",
      "004 | 2025-08-11 | Deleting 9367695_2025-08-11_11-58-33.png\n",
      "005 | 2025-08-23 | Deleting 9428865_2025-08-23_03-39-55.png\n",
      "006 | 2025-08-23 | Deleting 9428865_2025-08-23_03-39-55_flw.png\n",
      "007 | 2025-08-23 | Deleting 9434230_2025-08-23_07-43-12.png\n",
      "008 | 2025-08-23 | Deleting 9434230_2025-08-23_07-43-12_flw.png\n",
      "009 | 2025-08-23 | Deleting 9461673_2025-08-23_19-27-54.png\n",
      "010 | 2025-08-23 | Deleting 9461673_2025-08-23_19-27-54_flw.png\n",
      "011 | 2025-09-03 | Deleting 9485629_2025-09-03_04-00-48.png\n",
      "012 | 2025-09-03 | Deleting 9485629_2025-09-03_04-00-48_flw.png\n",
      "015 | 2025-08-16 | Deleting 9524762_2025-08-16_19-59-32.png\n",
      "016 | 2025-08-16 | Deleting 9524762_2025-08-16_19-59-32_flw.png\n",
      "017 | 2025-08-11 | Deleting 9640097_2025-08-11_23-59-18.png\n",
      "020 | 2025-08-17 | Deleting 9669885_2025-08-17_15-56-14.png\n",
      "021 | 2025-08-17 | Deleting 9669885_2025-08-17_15-56-14_flw.png\n",
      "022 | 2025-08-21 | Deleting 9682368_2025-08-21_02-44-05.png\n",
      "023 | 2025-08-30 | Deleting 9686716_2025-08-30_07-37-11.png\n",
      "024 | 2025-08-30 | Deleting 9686716_2025-08-30_07-37-11_flw.png\n",
      "027 | 2025-08-17 | Deleting 9705902_2025-08-17_20-00-11.png\n",
      "031 | 2025-08-21 | Deleting 9724611_2025-08-21_04-00-57.png\n",
      "033 | 2025-08-02 | Deleting 9747120_2025-08-02_07-57-40.png\n",
      "034 | 2025-08-02 | Deleting 9747120_2025-08-02_07-57-40_flw.png\n",
      "035 | 2025-08-12 | Deleting 9794836_2025-08-12_15-59-01.png\n",
      "036 | 2025-08-12 | Deleting 9794836_2025-08-12_15-59-01_flw.png\n",
      "037 | 2025-08-23 | Deleting 9797395_2025-08-23_23-42-50.png\n",
      "038 | 2025-08-23 | Deleting 9797395_2025-08-23_23-42-50_flw.png\n",
      "039 | 2025-08-30 | Deleting 9797395_2025-08-30_03-28-15.png\n",
      "040 | 2025-08-30 | Deleting 9797395_2025-08-30_03-28-15_flw.png\n",
      "043 | 2025-08-22 | Deleting 9833553_2025-08-22_23-37-46.png\n",
      "044 | 2025-08-22 | Deleting 9833553_2025-08-22_23-37-46_flw.png\n",
      "045 | 2025-09-11 | Deleting 9836036_2025-09-11_10-36-57.png\n",
      "049 | 2025-09-01 | Deleting 9935909_2025-09-01_11-59-46.png\n",
      "050 | 2025-09-01 | Deleting 9935909_2025-09-01_11-59-46_flw.png\n",
      "051 | 2025-09-10 | Deleting 9943384_2025-09-10_03-59-43.png\n",
      "053 | 2025-08-01 | Deleting 9983889_2025-08-01_19-51-54.png\n",
      "054 | 2025-08-09 | Deleting 9989091_2025-08-09_15-56-12.png\n",
      "055 | 2025-08-09 | Deleting 9989091_2025-08-09_15-56-12_flw.png\n"
     ]
    }
   ],
   "source": [
    "# Read all png files in the current directory\n",
    "files = [f for f in os.listdir('.') if f.endswith('.png')]\n",
    "for i, file in enumerate(files):\n",
    "    # file_date = datetime.datetime.fromtimestamp(os.path.getmtime(file))\n",
    "    file_date = file.split('_')[1]\n",
    "    # print(file_date)\n",
    "    if file_date < two_months_ago:\n",
    "        print(f\"{str(i).zfill(3)} | {file_date} | Deleting {file}\")\n",
    "        os.remove(file)\n",
    "        # time.sleep(1)\n",
    "    else:\n",
    "        pass\n",
    "        # print(f\"{str(i).zfill(3)} | {file_date} | Keeping {file}\")"
   ]
  },
  {
   "cell_type": "code",
   "execution_count": null,
   "metadata": {},
   "outputs": [],
   "source": []
  }
 ],
 "metadata": {
  "kernelspec": {
   "display_name": "env-pytorch",
   "language": "python",
   "name": "python3"
  },
  "language_info": {
   "codemirror_mode": {
    "name": "ipython",
    "version": 3
   },
   "file_extension": ".py",
   "mimetype": "text/x-python",
   "name": "python",
   "nbconvert_exporter": "python",
   "pygments_lexer": "ipython3",
   "version": "3.9.21"
  }
 },
 "nbformat": 4,
 "nbformat_minor": 2
}
