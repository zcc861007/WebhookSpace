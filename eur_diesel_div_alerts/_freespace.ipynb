{
 "cells": [
  {
   "cell_type": "code",
   "execution_count": 1,
   "metadata": {},
   "outputs": [],
   "source": [
    "import os\n",
    "import datetime\n",
    "import time"
   ]
  },
  {
   "cell_type": "code",
   "execution_count": 2,
   "metadata": {},
   "outputs": [
    {
     "data": {
      "text/plain": [
       "'c:\\\\Projects\\\\Musket\\\\WebhookSpace\\\\eur_diesel_div_alerts'"
      ]
     },
     "execution_count": 2,
     "metadata": {},
     "output_type": "execute_result"
    }
   ],
   "source": [
    "os.getcwd()"
   ]
  },
  {
   "cell_type": "code",
   "execution_count": 3,
   "metadata": {},
   "outputs": [
    {
     "name": "stdout",
     "output_type": "stream",
     "text": [
      "2025-07-29\n"
     ]
    }
   ],
   "source": [
    "date_now = datetime.datetime.now()\n",
    "two_months_ago = date_now - datetime.timedelta(days=30)\n",
    "two_months_ago = two_months_ago.strftime('%Y-%m-%d')\n",
    "# two_months_ago = '2025-02-10'\n",
    "print(two_months_ago)"
   ]
  },
  {
   "cell_type": "code",
   "execution_count": 4,
   "metadata": {},
   "outputs": [
    {
     "name": "stdout",
     "output_type": "stream",
     "text": [
      "000 | 2025-06-15 | Deleting 1014034_2025-06-15_11-14-25.png\n",
      "001 | 2025-06-15 | Deleting 1014034_2025-06-15_11-14-25_flw.png\n",
      "002 | 2025-06-22 | Deleting 1014876_2025-06-22_16-41-39.png\n",
      "003 | 2025-06-17 | Deleting 1030399_2025-06-17_20-43-23.png\n",
      "004 | 2025-06-22 | Deleting 9311713_2025-06-22_16-50-39.png\n",
      "010 | 2025-07-16 | Deleting 9317860_2025-07-16_16-49-58.png\n",
      "011 | 2025-07-16 | Deleting 9317860_2025-07-16_16-49-58_flw.png\n",
      "016 | 2025-07-21 | Deleting 9337523_2025-07-21_01-55-18.png\n",
      "017 | 2025-07-21 | Deleting 9337523_2025-07-21_07-58-28.png\n",
      "025 | 2025-07-28 | Deleting 9374507_2025-07-28_17-59-24.png\n",
      "026 | 2025-07-28 | Deleting 9374507_2025-07-28_17-59-24_flw.png\n",
      "027 | 2025-07-11 | Deleting 9374533_2025-07-11_05-13-36.png\n",
      "028 | 2025-07-15 | Deleting 9374533_2025-07-15_01-51-59.png\n",
      "034 | 2025-07-08 | Deleting 9407378_2025-07-08_12-53-54.png\n",
      "035 | 2025-07-08 | Deleting 9407378_2025-07-08_12-53-54_flw.png\n",
      "038 | 2025-07-01 | Deleting 9410014_2025-07-01_00-28-10.png\n",
      "044 | 2025-07-19 | Deleting 9433901_2025-07-19_09-54-33.png\n",
      "045 | 2025-07-19 | Deleting 9433901_2025-07-19_09-54-33_flw.png\n",
      "048 | 2025-07-14 | Deleting 9459060_2025-07-14_13-59-39.png\n",
      "049 | 2025-07-14 | Deleting 9459060_2025-07-14_13-59-39_flw.png\n",
      "051 | 2025-07-04 | Deleting 9528134_2025-07-04_18-20-14.png\n",
      "052 | 2025-07-04 | Deleting 9528134_2025-07-04_18-20-14_flw.png\n",
      "053 | 2025-07-22 | Deleting 9528134_2025-07-22_03-31-52.png\n",
      "055 | 2025-07-11 | Deleting 9587192_2025-07-11_01-56-42.png\n",
      "056 | 2025-07-25 | Deleting 9607966_2025-07-25_21-59-55.png\n",
      "057 | 2025-07-25 | Deleting 9607966_2025-07-25_21-59-55_flw.png\n",
      "058 | 2025-06-20 | Deleting 9637117_2025-06-20_20-21-31.png\n",
      "059 | 2025-06-20 | Deleting 9637117_2025-06-20_20-21-31_flw.png\n",
      "061 | 2025-07-09 | Deleting 9654567_2025-07-09_00-32-48.png\n",
      "064 | 2025-06-26 | Deleting 9654581_2025-06-26_13-09-32.png\n",
      "065 | 2025-07-04 | Deleting 9654775_2025-07-04_20-53-40.png\n",
      "067 | 2025-06-05 | Deleting 9686637_2025-06-05_05-54-04.png\n",
      "068 | 2025-06-05 | Deleting 9686637_2025-06-05_05-54-04_flw.png\n",
      "069 | 2025-06-28 | Deleting 9687942_2025-06-28_08-53-36.png\n",
      "070 | 2025-06-26 | Deleting 9688350_2025-06-26_00-53-59.png\n",
      "071 | 2025-07-22 | Deleting 9692351_2025-07-22_17-18-04.png\n",
      "072 | 2025-07-22 | Deleting 9692351_2025-07-22_17-18-04_flw.png\n",
      "073 | 2025-07-25 | Deleting 9704441_2025-07-25_21-47-11.png\n",
      "074 | 2025-06-30 | Deleting 9718416_2025-06-30_22-47-43.png\n",
      "075 | 2025-06-30 | Deleting 9718416_2025-06-30_22-47-43_flw.png\n",
      "076 | 2025-07-09 | Deleting 9718856_2025-07-09_05-15-34.png\n",
      "077 | 2025-06-25 | Deleting 9719721_2025-06-25_17-57-51.png\n",
      "078 | 2025-07-23 | Deleting 9726607_2025-07-23_04-23-07.png\n",
      "079 | 2025-07-26 | Deleting 9726607_2025-07-26_13-40-53.png\n",
      "080 | 2025-07-26 | Deleting 9726607_2025-07-26_13-40-53_flw.png\n",
      "081 | 2025-07-21 | Deleting 9735646_2025-07-21_20-39-25.png\n",
      "084 | 2025-06-20 | Deleting 9740469_2025-06-20_02-40-01.png\n",
      "085 | 2025-06-20 | Deleting 9740469_2025-06-20_02-40-01_flw.png\n",
      "086 | 2025-07-05 | Deleting 9773947_2025-07-05_00-56-39.png\n",
      "087 | 2025-07-05 | Deleting 9773947_2025-07-05_00-56-39_flw.png\n",
      "091 | 2025-07-20 | Deleting 9797254_2025-07-20_21-57-13.png\n",
      "092 | 2025-07-06 | Deleting 9797981_2025-07-06_02-12-20.png\n",
      "093 | 2025-07-06 | Deleting 9797981_2025-07-06_02-12-20_flw.png\n",
      "095 | 2025-07-08 | Deleting 9808326_2025-07-08_17-13-37.png\n",
      "096 | 2025-07-01 | Deleting 9827566_2025-07-01_12-01-48.png\n",
      "097 | 2025-06-30 | Deleting 9828895_2025-06-30_11-25-56.png\n",
      "098 | 2025-07-07 | Deleting 9831191_2025-07-07_07-10-49.png\n",
      "099 | 2025-07-07 | Deleting 9831191_2025-07-07_07-10-49_flw.png\n",
      "100 | 2025-07-22 | Deleting 9831191_2025-07-22_11-24-51.png\n",
      "102 | 2025-07-28 | Deleting 9853278_2025-07-28_05-39-54.png\n",
      "105 | 2025-07-20 | Deleting 9856622_2025-07-20_22-39-03.png\n",
      "106 | 2025-06-07 | Deleting 9857250_2025-06-07_10-00-10.png\n",
      "107 | 2025-06-07 | Deleting 9857250_2025-06-07_10-00-10_flw.png\n",
      "108 | 2025-07-23 | Deleting 9857250_2025-07-23_03-47-01.png\n",
      "109 | 2025-07-23 | Deleting 9857250_2025-07-23_03-47-01_flw.png\n",
      "110 | 2025-07-09 | Deleting 9865116_2025-07-09_16-53-30.png\n",
      "111 | 2025-07-09 | Deleting 9865116_2025-07-09_16-53-30_flw.png\n",
      "112 | 2025-06-26 | Deleting 9884825_2025-06-26_14-21-24.png\n",
      "113 | 2025-07-09 | Deleting 9884837_2025-07-09_12-30-06.png\n",
      "114 | 2025-06-29 | Deleting 9887621_2025-06-29_18-16-38.png\n",
      "115 | 2025-06-29 | Deleting 9887621_2025-06-29_18-16-38_flw.png\n",
      "118 | 2025-07-03 | Deleting 9887803_2025-07-03_12-34-37.png\n",
      "119 | 2025-07-03 | Deleting 9887803_2025-07-03_12-34-37_flw.png\n",
      "124 | 2025-06-27 | Deleting 9907768_2025-06-27_10-18-44.png\n",
      "125 | 2025-06-27 | Deleting 9907768_2025-06-27_10-18-44_flw.png\n",
      "126 | 2025-06-30 | Deleting 9907768_2025-06-30_16-47-58.png\n",
      "127 | 2025-06-30 | Deleting 9907768_2025-06-30_16-47-58_flw.png\n"
     ]
    }
   ],
   "source": [
    "# Read all png files in the current directory\n",
    "files = [f for f in os.listdir('.') if f.endswith('.png')]\n",
    "for i, file in enumerate(files):\n",
    "    # file_date = datetime.datetime.fromtimestamp(os.path.getmtime(file))\n",
    "    file_date = file.split('_')[1]\n",
    "    # print(file_date)\n",
    "    if file_date < two_months_ago:\n",
    "        print(f\"{str(i).zfill(3)} | {file_date} | Deleting {file}\")\n",
    "        os.remove(file)\n",
    "        # time.sleep(1)\n",
    "    else:\n",
    "        pass\n",
    "        # print(f\"{str(i).zfill(3)} | {file_date} | Keeping {file}\")"
   ]
  },
  {
   "cell_type": "code",
   "execution_count": null,
   "metadata": {},
   "outputs": [],
   "source": []
  }
 ],
 "metadata": {
  "kernelspec": {
   "display_name": "env-pytorch",
   "language": "python",
   "name": "python3"
  },
  "language_info": {
   "codemirror_mode": {
    "name": "ipython",
    "version": 3
   },
   "file_extension": ".py",
   "mimetype": "text/x-python",
   "name": "python",
   "nbconvert_exporter": "python",
   "pygments_lexer": "ipython3",
   "version": "3.9.21"
  }
 },
 "nbformat": 4,
 "nbformat_minor": 2
}
