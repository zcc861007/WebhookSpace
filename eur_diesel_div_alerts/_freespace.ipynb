{
 "cells": [
  {
   "cell_type": "code",
   "execution_count": 1,
   "metadata": {},
   "outputs": [],
   "source": [
    "import os\n",
    "import datetime\n",
    "import time"
   ]
  },
  {
   "cell_type": "code",
   "execution_count": 2,
   "metadata": {},
   "outputs": [
    {
     "data": {
      "text/plain": [
       "'c:\\\\Projects\\\\Musket\\\\WebhookSpace\\\\eur_diesel_div_alerts'"
      ]
     },
     "execution_count": 2,
     "metadata": {},
     "output_type": "execute_result"
    }
   ],
   "source": [
    "os.getcwd()"
   ]
  },
  {
   "cell_type": "code",
   "execution_count": 3,
   "metadata": {},
   "outputs": [
    {
     "name": "stdout",
     "output_type": "stream",
     "text": [
      "2025-09-12\n"
     ]
    }
   ],
   "source": [
    "date_now = datetime.datetime.now()\n",
    "two_months_ago = date_now - datetime.timedelta(days=30)\n",
    "two_months_ago = two_months_ago.strftime('%Y-%m-%d')\n",
    "# two_months_ago = '2025-02-10'\n",
    "print(two_months_ago)"
   ]
  },
  {
   "cell_type": "code",
   "execution_count": 4,
   "metadata": {},
   "outputs": [
    {
     "name": "stdout",
     "output_type": "stream",
     "text": [
      "003 | 2025-08-31 | Deleting 9304344_2025-08-31_00-42-38.png\n",
      "004 | 2025-08-31 | Deleting 9304344_2025-08-31_00-42-38_flw.png\n",
      "005 | 2025-08-03 | Deleting 9311713_2025-08-03_17-57-34.png\n",
      "006 | 2025-08-03 | Deleting 9311713_2025-08-03_17-57-34_flw.png\n",
      "007 | 2025-08-07 | Deleting 9311713_2025-08-07_10-00-05.png\n",
      "008 | 2025-08-07 | Deleting 9311713_2025-08-07_13-54-16.png\n",
      "009 | 2025-08-07 | Deleting 9311713_2025-08-07_13-54-16_flw.png\n",
      "012 | 2025-08-03 | Deleting 9326500_2025-08-03_01-06-07.png\n",
      "013 | 2025-08-03 | Deleting 9326500_2025-08-03_01-06-07_flw.png\n",
      "014 | 2025-08-22 | Deleting 9332183_2025-08-22_02-00-59.png\n",
      "015 | 2025-08-22 | Deleting 9332183_2025-08-22_02-00-59_flw.png\n",
      "016 | 2025-07-31 | Deleting 9343209_2025-07-31_20-20-30.png\n",
      "017 | 2025-07-31 | Deleting 9343209_2025-07-31_20-20-30_flw.png\n",
      "018 | 2025-08-25 | Deleting 9346469_2025-08-25_14-50-57.png\n",
      "019 | 2025-08-25 | Deleting 9346469_2025-08-25_14-50-57_flw.png\n",
      "020 | 2025-08-13 | Deleting 9351634_2025-08-13_21-58-27.png\n",
      "022 | 2025-08-06 | Deleting 9363493_2025-08-06_17-57-38.png\n",
      "023 | 2025-08-06 | Deleting 9363493_2025-08-06_17-57-38_flw.png\n",
      "024 | 2025-09-08 | Deleting 9366287_2025-09-08_15-00-43.png\n",
      "025 | 2025-09-08 | Deleting 9366287_2025-09-08_15-00-43_flw.png\n",
      "026 | 2025-08-06 | Deleting 9380362_2025-08-06_05-57-12.png\n",
      "027 | 2025-08-06 | Deleting 9380362_2025-08-06_05-57-12_flw.png\n",
      "028 | 2025-08-05 | Deleting 9387918_2025-08-05_19-53-27.png\n",
      "029 | 2025-08-21 | Deleting 9388778_2025-08-21_09-03-43.png\n",
      "030 | 2025-08-01 | Deleting 9389849_2025-08-01_21-58-04.png\n",
      "035 | 2025-08-13 | Deleting 9407823_2025-08-13_17-57-49.png\n",
      "036 | 2025-08-13 | Deleting 9407823_2025-08-13_17-57-49_flw.png\n",
      "039 | 2025-08-11 | Deleting 9413688_2025-08-11_21-57-35.png\n",
      "040 | 2025-08-11 | Deleting 9413688_2025-08-11_21-57-35_flw.png\n",
      "043 | 2025-08-09 | Deleting 9422237_2025-08-09_01-59-23.png\n",
      "044 | 2025-08-09 | Deleting 9422237_2025-08-09_01-59-23_flw.png\n",
      "045 | 2025-08-07 | Deleting 9425552_2025-08-07_16-15-36.png\n",
      "046 | 2025-09-03 | Deleting 9428970_2025-09-03_01-58-15.png\n",
      "047 | 2025-08-09 | Deleting 9443853_2025-08-09_17-50-25.png\n",
      "048 | 2025-08-09 | Deleting 9443853_2025-08-09_17-50-25_flw.png\n",
      "050 | 2025-08-03 | Deleting 9499371_2025-08-03_07-39-50.png\n",
      "055 | 2025-08-27 | Deleting 9581667_2025-08-27_11-11-28.png\n",
      "056 | 2025-09-03 | Deleting 9607966_2025-09-03_18-01-02.png\n",
      "057 | 2025-09-03 | Deleting 9607966_2025-09-03_18-01-02_flw.png\n",
      "058 | 2025-09-08 | Deleting 9607966_2025-09-08_14-54-22.png\n",
      "059 | 2025-09-08 | Deleting 9607966_2025-09-08_14-54-22_flw.png\n",
      "063 | 2025-09-11 | Deleting 9637088_2025-09-11_10-00-58.png\n",
      "064 | 2025-09-11 | Deleting 9637088_2025-09-11_10-00-58_flw.png\n",
      "065 | 2025-08-11 | Deleting 9640097_2025-08-11_21-52-53.png\n",
      "066 | 2025-08-16 | Deleting 9654567_2025-08-16_01-54-11.png\n",
      "067 | 2025-08-16 | Deleting 9654567_2025-08-16_01-54-11_flw.png\n",
      "068 | 2025-08-29 | Deleting 9669926_2025-08-29_06-52-12.png\n",
      "069 | 2025-08-29 | Deleting 9669926_2025-08-29_06-52-12_flw.png\n",
      "070 | 2025-09-01 | Deleting 9681132_2025-09-01_17-57-55.png\n",
      "071 | 2025-09-01 | Deleting 9681132_2025-09-01_17-57-55_flw.png\n",
      "072 | 2025-08-08 | Deleting 9682370_2025-08-08_21-38-32.png\n",
      "073 | 2025-09-03 | Deleting 9683075_2025-09-03_13-41-25.png\n",
      "074 | 2025-09-03 | Deleting 9683075_2025-09-03_13-41-25_flw.png\n",
      "079 | 2025-09-11 | Deleting 9714513_2025-09-11_06-56-00.png\n",
      "080 | 2025-08-30 | Deleting 9724714_2025-08-30_09-58-54.png\n",
      "081 | 2025-08-26 | Deleting 9737101_2025-08-26_15-16-59.png\n",
      "082 | 2025-08-26 | Deleting 9737101_2025-08-26_15-16-59_flw.png\n",
      "083 | 2025-08-29 | Deleting 9746279_2025-08-29_00-45-05.png\n",
      "084 | 2025-08-31 | Deleting 9785706_2025-08-31_17-16-39.png\n",
      "085 | 2025-08-17 | Deleting 9788435_2025-08-17_17-57-10.png\n",
      "086 | 2025-08-17 | Deleting 9788435_2025-08-17_17-57-10_flw.png\n",
      "087 | 2025-08-05 | Deleting 9790373_2025-08-05_13-58-19.png\n",
      "088 | 2025-09-01 | Deleting 9790373_2025-09-01_08-54-24.png\n",
      "089 | 2025-08-18 | Deleting 9798959_2025-08-18_09-41-21.png\n",
      "090 | 2025-09-01 | Deleting 9800702_2025-09-01_17-16-13.png\n",
      "095 | 2025-08-16 | Deleting 9833577_2025-08-16_09-58-45.png\n",
      "100 | 2025-08-09 | Deleting 9854727_2025-08-09_05-59-47.png\n",
      "101 | 2025-08-09 | Deleting 9854727_2025-08-09_05-59-47_flw.png\n",
      "103 | 2025-08-02 | Deleting 9887621_2025-08-02_09-54-51.png\n",
      "104 | 2025-08-02 | Deleting 9887621_2025-08-02_09-54-51_flw.png\n",
      "105 | 2025-08-24 | Deleting 9900801_2025-08-24_09-58-08.png\n",
      "106 | 2025-08-24 | Deleting 9900801_2025-08-24_17-15-11.png\n",
      "107 | 2025-08-24 | Deleting 9900801_2025-08-24_17-15-11_flw.png\n",
      "108 | 2025-08-03 | Deleting 9901087_2025-08-03_13-38-40.png\n",
      "112 | 2025-08-10 | Deleting 9934163_2025-08-10_13-58-20.png\n",
      "113 | 2025-08-10 | Deleting 9934163_2025-08-10_13-58-20_flw.png\n",
      "117 | 2025-09-11 | Deleting 9941685_2025-09-11_01-55-24.png\n",
      "120 | 2025-09-09 | Deleting 9982548_2025-09-09_22-00-42.png\n",
      "121 | 2025-08-26 | Deleting 9985849_2025-08-26_02-14-29.png\n",
      "122 | 2025-08-26 | Deleting 9985849_2025-08-26_02-14-29_flw.png\n",
      "123 | 2025-08-17 | Deleting 9993810_2025-08-17_13-56-08.png\n",
      "124 | 2025-08-18 | Deleting 9993872_2025-08-18_05-58-25.png\n"
     ]
    }
   ],
   "source": [
    "# Read all png files in the current directory\n",
    "files = [f for f in os.listdir('.') if f.endswith('.png')]\n",
    "for i, file in enumerate(files):\n",
    "    # file_date = datetime.datetime.fromtimestamp(os.path.getmtime(file))\n",
    "    file_date = file.split('_')[1]\n",
    "    # print(file_date)\n",
    "    if file_date < two_months_ago:\n",
    "        print(f\"{str(i).zfill(3)} | {file_date} | Deleting {file}\")\n",
    "        os.remove(file)\n",
    "        # time.sleep(1)\n",
    "    else:\n",
    "        pass\n",
    "        # print(f\"{str(i).zfill(3)} | {file_date} | Keeping {file}\")"
   ]
  },
  {
   "cell_type": "code",
   "execution_count": null,
   "metadata": {},
   "outputs": [],
   "source": []
  }
 ],
 "metadata": {
  "kernelspec": {
   "display_name": "env-pytorch",
   "language": "python",
   "name": "python3"
  },
  "language_info": {
   "codemirror_mode": {
    "name": "ipython",
    "version": 3
   },
   "file_extension": ".py",
   "mimetype": "text/x-python",
   "name": "python",
   "nbconvert_exporter": "python",
   "pygments_lexer": "ipython3",
   "version": "3.9.21"
  }
 },
 "nbformat": 4,
 "nbformat_minor": 2
}
