{
 "cells": [
  {
   "cell_type": "code",
   "execution_count": 1,
   "metadata": {},
   "outputs": [],
   "source": [
    "import os\n",
    "import datetime\n",
    "import time"
   ]
  },
  {
   "cell_type": "code",
   "execution_count": 2,
   "metadata": {},
   "outputs": [
    {
     "data": {
      "text/plain": [
       "'/Users/czp3317/Desktop/Working/Projects/WebhookSpace/eur_diesel_div_alerts'"
      ]
     },
     "execution_count": 2,
     "metadata": {},
     "output_type": "execute_result"
    }
   ],
   "source": [
    "os.getcwd()"
   ]
  },
  {
   "cell_type": "code",
   "execution_count": 3,
   "metadata": {},
   "outputs": [
    {
     "name": "stdout",
     "output_type": "stream",
     "text": [
      "2025-05-22\n"
     ]
    }
   ],
   "source": [
    "date_now = datetime.datetime.now()\n",
    "two_months_ago = date_now - datetime.timedelta(days=30)\n",
    "two_months_ago = two_months_ago.strftime('%Y-%m-%d')\n",
    "# two_months_ago = '2025-02-10'\n",
    "print(two_months_ago)"
   ]
  },
  {
   "cell_type": "code",
   "execution_count": 4,
   "metadata": {},
   "outputs": [
    {
     "name": "stdout",
     "output_type": "stream",
     "text": [
      "000 | 2025-03-08 | Deleting 9955997_2025-03-08_22-59-37.png\n",
      "001 | 2025-04-04 | Deleting 9561382_2025-04-04_08-20-27.png\n",
      "002 | 2025-03-26 | Deleting 9806146_2025-03-26_16-53-39.png\n",
      "003 | 2025-04-06 | Deleting 9337523_2025-04-06_01-58-22.png\n",
      "004 | 2025-03-06 | Deleting 9706437_2025-03-06_10-17-30.png\n",
      "005 | 2025-05-11 | Deleting 9392779_2025-05-11_12-31-43_flw.png\n",
      "006 | 2025-03-26 | Deleting 9381835_2025-03-26_08-59-20.png\n",
      "007 | 2025-03-17 | Deleting 9379131_2025-03-17_05-04-09_flw.png\n",
      "008 | 2025-03-11 | Deleting 9214317_2025-03-11_07-44-15_flw.png\n",
      "009 | 2025-05-17 | Deleting 9697595_2025-05-17_21-59-08_flw.png\n",
      "010 | 2025-02-20 | Deleting 9730880_2025-02-20_14-59-24.png\n",
      "011 | 2025-04-05 | Deleting 9607710_2025-04-05_01-29-12.png\n",
      "012 | 2025-03-01 | Deleting 9612052_2025-03-01_10-59-30.png\n",
      "013 | 2025-02-18 | Deleting 9533995_2025-02-18_19-59-38.png\n",
      "014 | 2025-03-17 | Deleting 9379131_2025-03-17_05-04-09.png\n",
      "015 | 2025-03-06 | Deleting 9430296_2025-03-06_06-30-08_flw.png\n",
      "016 | 2025-03-05 | Deleting 9934321_2025-03-05_18-35-15.png\n",
      "017 | 2025-03-05 | Deleting 9924015_2025-03-05_18-38-27.png\n",
      "018 | 2025-02-22 | Deleting 9730880_2025-02-22_02-58-29.png\n",
      "019 | 2025-02-25 | Deleting 9901427_2025-02-25_16-44-53.png\n",
      "020 | 2025-03-30 | Deleting 9372858_2025-03-30_15-55-03.png\n",
      "021 | 2025-02-21 | Deleting 9730880_2025-02-21_09-57-58.png\n",
      "022 | 2025-04-10 | Deleting 9831206_2025-04-10_13-31-39.png\n",
      "024 | 2025-02-24 | Deleting 9890939_2025-02-24_10-14-43.png\n",
      "025 | 2025-03-15 | Deleting 9433597_2025-03-15_21-57-11_flw.png\n",
      "028 | 2025-02-24 | Deleting 9890939_2025-02-24_10-14-43_flw.png\n",
      "029 | 2025-03-03 | Deleting 9397896_2025-03-03_03-00-04_flw.png\n",
      "030 | 2025-03-07 | Deleting 9955997_2025-03-07_04-52-37_flw.png\n",
      "031 | 2025-03-13 | Deleting 9893163_2025-03-13_13-58-40.png\n",
      "032 | 2025-03-06 | Deleting 9430296_2025-03-06_06-30-08.png\n",
      "033 | 2025-04-15 | Deleting 9387920_2025-04-15_20-47-05_flw.png\n",
      "035 | 2025-03-18 | Deleting 9806146_2025-03-18_17-58-01.png\n",
      "036 | 2025-03-07 | Deleting 9955997_2025-03-07_04-52-37.png\n",
      "037 | 2025-03-30 | Deleting 9412177_2025-03-30_21-52-35.png\n",
      "038 | 2025-04-20 | Deleting 9688350_2025-04-20_01-58-15_flw.png\n",
      "039 | 2025-03-03 | Deleting 9934321_2025-03-03_22-50-34.png\n",
      "040 | 2025-03-27 | Deleting 9838254_2025-03-27_17-59-59.png\n",
      "041 | 2025-04-04 | Deleting 9690808_2025-04-04_00-09-41.png\n",
      "042 | 2025-02-21 | Deleting 9947378_2025-02-21_09-31-38.png\n",
      "043 | 2025-03-03 | Deleting 9397896_2025-03-03_03-00-04.png\n",
      "044 | 2025-03-07 | Deleting 9681156_2025-03-07_10-55-07.png\n",
      "045 | 2025-04-28 | Deleting 9447756_2025-04-28_18-00-15_flw.png\n",
      "046 | 2025-03-12 | Deleting 9850692_2025-03-12_17-12-46.png\n",
      "047 | 2025-03-06 | Deleting 9706437_2025-03-06_10-17-30_flw.png\n",
      "050 | 2025-05-01 | Deleting 9997969_2025-05-01_09-52-20.png\n",
      "051 | 2025-05-17 | Deleting 9697595_2025-05-17_21-59-08.png\n",
      "052 | 2025-02-18 | Deleting 9730880_2025-02-18_19-55-28.png\n",
      "053 | 2025-03-14 | Deleting 9168635_2025-03-14_17-52-43_flw.png\n",
      "054 | 2025-03-25 | Deleting 9893163_2025-03-25_02-53-31.png\n",
      "055 | 2025-02-24 | Deleting 9953456_2025-02-24_22-52-02.png\n",
      "056 | 2025-03-03 | Deleting 9924015_2025-03-03_13-06-26.png\n",
      "057 | 2025-03-30 | Deleting 9412177_2025-03-30_21-52-35_flw.png\n",
      "058 | 2025-03-18 | Deleting 9806146_2025-03-18_17-58-01_flw.png\n",
      "059 | 2025-04-04 | Deleting 9561382_2025-04-04_08-20-27_flw.png\n",
      "060 | 2025-03-13 | Deleting 9850692_2025-03-13_18-00-07.png\n",
      "061 | 2025-05-02 | Deleting 9970363_2025-05-02_07-18-18.png\n",
      "062 | 2025-04-28 | Deleting 9447756_2025-04-28_18-00-15.png\n",
      "063 | 2025-04-09 | Deleting 9719692_2025-04-09_02-00-14.png\n",
      "064 | 2025-03-02 | Deleting 9924015_2025-03-02_08-44-47.png\n",
      "065 | 2025-05-05 | Deleting 9994565_2025-05-05_12-11-57.png\n",
      "066 | 2025-03-06 | Deleting 9902847_2025-03-06_10-19-16.png\n",
      "067 | 2025-02-21 | Deleting 9664720_2025-02-21_13-13-23.png\n",
      "068 | 2025-04-06 | Deleting 9779953_2025-04-06_01-59-21.png\n",
      "069 | 2025-03-15 | Deleting 9433597_2025-03-15_21-57-11.png\n",
      "070 | 2025-03-29 | Deleting 9332303_2025-03-29_17-15-02.png\n",
      "071 | 2025-05-11 | Deleting 9392779_2025-05-11_12-31-43.png\n",
      "072 | 2025-03-30 | Deleting 9994565_2025-03-30_11-20-19.png\n",
      "073 | 2025-05-12 | Deleting 9722625_2025-05-12_01-57-18.png\n",
      "074 | 2025-03-23 | Deleting 9838254_2025-03-23_13-08-40_flw.png\n",
      "076 | 2025-02-28 | Deleting 9850006_2025-02-28_19-00-02.png\n",
      "077 | 2025-03-16 | Deleting 9433597_2025-03-16_05-51-49.png\n",
      "078 | 2025-02-26 | Deleting 9902859_2025-02-26_18-45-54.png\n",
      "079 | 2025-02-22 | Deleting 9853840_2025-02-22_19-00-11.png\n",
      "080 | 2025-03-01 | Deleting 9612052_2025-03-01_10-59-30_flw.png\n",
      "081 | 2025-04-20 | Deleting 9688350_2025-04-20_01-58-15.png\n",
      "082 | 2025-03-16 | Deleting 9433597_2025-03-16_05-51-49_flw.png\n",
      "083 | 2025-03-11 | Deleting 9214317_2025-03-11_07-44-15.png\n",
      "084 | 2025-03-02 | Deleting 9924015_2025-03-02_02-08-37.png\n",
      "085 | 2025-02-21 | Deleting 9485629_2025-02-21_00-45-00.png\n",
      "086 | 2025-04-13 | Deleting 9575565_2025-04-13_09-23-36.png\n",
      "087 | 2025-03-23 | Deleting 9838254_2025-03-23_13-08-40.png\n",
      "088 | 2025-03-18 | Deleting 9827578_2025-03-18_15-41-57.png\n",
      "089 | 2025-03-06 | Deleting 9902847_2025-03-06_10-19-16_flw.png\n",
      "090 | 2025-02-21 | Deleting 9485629_2025-02-21_00-45-00_flw.png\n",
      "091 | 2025-05-12 | Deleting 9397896_2025-05-12_21-36-36_flw.png\n",
      "092 | 2025-02-23 | Deleting 9726463_2025-02-23_22-13-18.png\n",
      "093 | 2025-04-03 | Deleting 9337523_2025-04-03_22-21-03.png\n",
      "094 | 2025-03-01 | Deleting 9923932_2025-03-01_22-46-57.png\n",
      "095 | 2025-04-01 | Deleting 9708588_2025-04-01_06-59-26.png\n",
      "096 | 2025-03-26 | Deleting 9381835_2025-03-26_08-59-20_flw.png\n",
      "097 | 2025-03-11 | Deleting 9487249_2025-03-11_21-57-47_flw.png\n",
      "098 | 2025-04-19 | Deleting 9893204_2025-04-19_00-38-21.png\n",
      "099 | 2025-04-15 | Deleting 9387920_2025-04-15_20-47-05.png\n",
      "100 | 2025-03-01 | Deleting 9320714_2025-03-01_18-44-22_flw.png\n",
      "101 | 2025-03-11 | Deleting 9487249_2025-03-11_21-57-47.png\n",
      "102 | 2025-02-25 | Deleting 9729245_2025-02-25_18-59-26.png\n",
      "103 | 2025-03-26 | Deleting 9806146_2025-03-26_16-53-39_flw.png\n",
      "104 | 2025-03-01 | Deleting 9320714_2025-03-01_18-44-22.png\n",
      "105 | 2025-04-06 | Deleting 9337523_2025-04-06_01-58-22_flw.png\n",
      "106 | 2025-03-07 | Deleting 9882413_2025-03-07_14-21-55.png\n",
      "107 | 2025-02-22 | Deleting 9629706_2025-02-22_14-41-05.png\n",
      "109 | 2025-02-21 | Deleting 9853840_2025-02-21_10-00-05.png\n",
      "111 | 2025-03-14 | Deleting 9168635_2025-03-14_17-52-43.png\n",
      "112 | 2025-02-26 | Deleting 1014864_2025-02-26_14-59-49_flw.png\n",
      "115 | 2025-03-02 | Deleting 9901427_2025-03-02_02-22-17.png\n",
      "116 | 2025-05-12 | Deleting 9397896_2025-05-12_21-36-36.png\n",
      "117 | 2025-02-26 | Deleting 1014864_2025-02-26_14-59-49.png\n",
      "118 | 2025-03-25 | Deleting 9893163_2025-03-25_02-53-31_flw.png\n",
      "119 | 2025-04-10 | Deleting 9547714_2025-04-10_17-26-46.png\n"
     ]
    }
   ],
   "source": [
    "# Read all png files in the current directory\n",
    "files = [f for f in os.listdir('.') if f.endswith('.png')]\n",
    "for i, file in enumerate(files):\n",
    "    # file_date = datetime.datetime.fromtimestamp(os.path.getmtime(file))\n",
    "    file_date = file.split('_')[1]\n",
    "    # print(file_date)\n",
    "    if file_date < two_months_ago:\n",
    "        print(f\"{str(i).zfill(3)} | {file_date} | Deleting {file}\")\n",
    "        os.remove(file)\n",
    "        # time.sleep(1)\n",
    "    else:\n",
    "        pass\n",
    "        # print(f\"{str(i).zfill(3)} | {file_date} | Keeping {file}\")"
   ]
  },
  {
   "cell_type": "code",
   "execution_count": null,
   "metadata": {},
   "outputs": [],
   "source": []
  }
 ],
 "metadata": {
  "kernelspec": {
   "display_name": "Python 3",
   "language": "python",
   "name": "python3"
  },
  "language_info": {
   "codemirror_mode": {
    "name": "ipython",
    "version": 3
   },
   "file_extension": ".py",
   "mimetype": "text/x-python",
   "name": "python",
   "nbconvert_exporter": "python",
   "pygments_lexer": "ipython3",
   "version": "3.11.0"
  }
 },
 "nbformat": 4,
 "nbformat_minor": 2
}
