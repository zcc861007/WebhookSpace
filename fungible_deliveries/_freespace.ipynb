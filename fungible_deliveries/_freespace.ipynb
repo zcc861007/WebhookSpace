{
 "cells": [
  {
   "cell_type": "code",
   "execution_count": 1,
   "metadata": {},
   "outputs": [],
   "source": [
    "import os\n",
    "import datetime\n",
    "import time"
   ]
  },
  {
   "cell_type": "code",
   "execution_count": 2,
   "metadata": {},
   "outputs": [
    {
     "data": {
      "text/plain": [
       "'/Users/czp3317/Desktop/Working/Projects/WebhookSpace/fungible_deliveries'"
      ]
     },
     "execution_count": 2,
     "metadata": {},
     "output_type": "execute_result"
    }
   ],
   "source": [
    "os.getcwd()"
   ]
  },
  {
   "cell_type": "code",
   "execution_count": 3,
   "metadata": {},
   "outputs": [
    {
     "name": "stdout",
     "output_type": "stream",
     "text": [
      "2025-02-17\n"
     ]
    }
   ],
   "source": [
    "date_now = datetime.datetime.now()\n",
    "two_months_ago = date_now - datetime.timedelta(days=30)\n",
    "two_months_ago = two_months_ago.strftime('%Y-%m-%d')\n",
    "print(two_months_ago)"
   ]
  },
  {
   "cell_type": "code",
   "execution_count": 4,
   "metadata": {},
   "outputs": [],
   "source": [
    "# Read all png files in the current directory\n",
    "files = [f for f in os.listdir('.') if f.endswith('.png')]\n",
    "for i, file in enumerate(files):\n",
    "    # file_date = datetime.datetime.fromtimestamp(os.path.getmtime(file))\n",
    "    file_date = file[-14:-4]\n",
    "    # print(file_date)\n",
    "    if file_date < two_months_ago:\n",
    "        print(f\"{str(i).zfill(3)} | {file_date} | Deleting {file}\")\n",
    "        os.remove(file)\n",
    "        # time.sleep(1)\n",
    "    else:\n",
    "        pass\n",
    "        # print(f\"{str(i).zfill(3)} | {file_date} | Keeping {file}\")"
   ]
  },
  {
   "cell_type": "code",
   "execution_count": null,
   "metadata": {},
   "outputs": [],
   "source": []
  }
 ],
 "metadata": {
  "kernelspec": {
   "display_name": "Python 3",
   "language": "python",
   "name": "python3"
  },
  "language_info": {
   "codemirror_mode": {
    "name": "ipython",
    "version": 3
   },
   "file_extension": ".py",
   "mimetype": "text/x-python",
   "name": "python",
   "nbconvert_exporter": "python",
   "pygments_lexer": "ipython3",
   "version": "3.11.0"
  }
 },
 "nbformat": 4,
 "nbformat_minor": 2
}
