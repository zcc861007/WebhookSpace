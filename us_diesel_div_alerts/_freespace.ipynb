{
 "cells": [
  {
   "cell_type": "code",
   "execution_count": 1,
   "metadata": {},
   "outputs": [],
   "source": [
    "import os\n",
    "import datetime\n",
    "import time"
   ]
  },
  {
   "cell_type": "code",
   "execution_count": 2,
   "metadata": {},
   "outputs": [
    {
     "data": {
      "text/plain": [
       "'c:\\\\Projects\\\\Musket\\\\WebhookSpace\\\\us_diesel_div_alerts'"
      ]
     },
     "execution_count": 2,
     "metadata": {},
     "output_type": "execute_result"
    }
   ],
   "source": [
    "os.getcwd()"
   ]
  },
  {
   "cell_type": "code",
   "execution_count": 3,
   "metadata": {},
   "outputs": [
    {
     "name": "stdout",
     "output_type": "stream",
     "text": [
      "2025-09-12\n"
     ]
    }
   ],
   "source": [
    "date_now = datetime.datetime.now()\n",
    "two_months_ago = date_now - datetime.timedelta(days=30)\n",
    "two_months_ago = two_months_ago.strftime('%Y-%m-%d')\n",
    "# two_months_ago = '2025-02-10'\n",
    "print(two_months_ago)"
   ]
  },
  {
   "cell_type": "code",
   "execution_count": 4,
   "metadata": {},
   "outputs": [
    {
     "name": "stdout",
     "output_type": "stream",
     "text": [
      "000 | 2025-08-31 | Deleting 9304344_2025-08-31_00-42-38.png\n",
      "001 | 2025-08-31 | Deleting 9304344_2025-08-31_00-42-38_flw.png\n",
      "002 | 2025-08-21 | Deleting 9388778_2025-08-21_06-54-23.png\n",
      "003 | 2025-07-29 | Deleting 9391517_2025-07-29_06-59-52.png\n",
      "004 | 2025-08-11 | Deleting 9413688_2025-08-11_22-53-36.png\n",
      "005 | 2025-08-11 | Deleting 9413688_2025-08-11_22-53-36_flw.png\n",
      "010 | 2025-08-27 | Deleting 9581667_2025-08-27_11-11-28.png\n",
      "011 | 2025-08-11 | Deleting 9640097_2025-08-11_22-51-56.png\n",
      "012 | 2025-09-03 | Deleting 9683075_2025-09-03_14-57-55.png\n",
      "013 | 2025-09-03 | Deleting 9683075_2025-09-03_14-57-55_flw.png\n",
      "015 | 2025-08-26 | Deleting 9737101_2025-08-26_15-16-59.png\n",
      "016 | 2025-08-26 | Deleting 9737101_2025-08-26_15-16-59_flw.png\n",
      "017 | 2025-08-05 | Deleting 9790373_2025-08-05_14-58-18.png\n",
      "018 | 2025-07-30 | Deleting 9900801_2025-07-30_04-12-05.png\n",
      "019 | 2025-09-03 | Deleting 9901087_2025-09-03_02-44-31.png\n",
      "020 | 2025-09-03 | Deleting 9901087_2025-09-03_02-44-31_flw.png\n",
      "021 | 2025-09-05 | Deleting 9993884_2025-09-05_02-58-00.png\n"
     ]
    }
   ],
   "source": [
    "# Read all png files in the current directory\n",
    "files = [f for f in os.listdir('.') if f.endswith('.png')]\n",
    "for i, file in enumerate(files):\n",
    "    # file_date = datetime.datetime.fromtimestamp(os.path.getmtime(file))\n",
    "    file_date = file.split('_')[1]\n",
    "    # print(file_date)\n",
    "    if file_date < two_months_ago:\n",
    "        print(f\"{str(i).zfill(3)} | {file_date} | Deleting {file}\")\n",
    "        os.remove(file)\n",
    "        # time.sleep(1)\n",
    "    else:\n",
    "        pass\n",
    "        # print(f\"{str(i).zfill(3)} | {file_date} | Keeping {file}\")"
   ]
  },
  {
   "cell_type": "code",
   "execution_count": null,
   "metadata": {},
   "outputs": [],
   "source": []
  }
 ],
 "metadata": {
  "kernelspec": {
   "display_name": "env-pytorch",
   "language": "python",
   "name": "python3"
  },
  "language_info": {
   "codemirror_mode": {
    "name": "ipython",
    "version": 3
   },
   "file_extension": ".py",
   "mimetype": "text/x-python",
   "name": "python",
   "nbconvert_exporter": "python",
   "pygments_lexer": "ipython3",
   "version": "3.9.21"
  }
 },
 "nbformat": 4,
 "nbformat_minor": 2
}
