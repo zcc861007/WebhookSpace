{
 "cells": [
  {
   "cell_type": "code",
   "execution_count": 1,
   "metadata": {},
   "outputs": [],
   "source": [
    "import os\n",
    "import datetime\n",
    "import time"
   ]
  },
  {
   "cell_type": "code",
   "execution_count": 2,
   "metadata": {},
   "outputs": [
    {
     "data": {
      "text/plain": [
       "'c:\\\\Projects\\\\Musket\\\\WebhookSpace\\\\us_diesel_div_alerts'"
      ]
     },
     "execution_count": 2,
     "metadata": {},
     "output_type": "execute_result"
    }
   ],
   "source": [
    "os.getcwd()"
   ]
  },
  {
   "cell_type": "code",
   "execution_count": 3,
   "metadata": {},
   "outputs": [
    {
     "name": "stdout",
     "output_type": "stream",
     "text": [
      "2025-07-29\n"
     ]
    }
   ],
   "source": [
    "date_now = datetime.datetime.now()\n",
    "two_months_ago = date_now - datetime.timedelta(days=30)\n",
    "two_months_ago = two_months_ago.strftime('%Y-%m-%d')\n",
    "# two_months_ago = '2025-02-10'\n",
    "print(two_months_ago)"
   ]
  },
  {
   "cell_type": "code",
   "execution_count": 4,
   "metadata": {},
   "outputs": [
    {
     "name": "stdout",
     "output_type": "stream",
     "text": [
      "000 | 2025-06-18 | Deleting 1030399_2025-06-18_00-49-58.png\n",
      "001 | 2025-07-16 | Deleting 9317860_2025-07-16_16-49-58.png\n",
      "002 | 2025-07-16 | Deleting 9317860_2025-07-16_16-49-58_flw.png\n",
      "005 | 2025-07-12 | Deleting 9407378_2025-07-12_10-53-45.png\n",
      "006 | 2025-07-12 | Deleting 9407378_2025-07-12_10-53-45_flw.png\n",
      "010 | 2025-07-25 | Deleting 9607966_2025-07-25_22-59-45.png\n",
      "011 | 2025-07-25 | Deleting 9607966_2025-07-25_22-59-45_flw.png\n",
      "013 | 2025-07-04 | Deleting 9654775_2025-07-04_22-54-27.png\n",
      "014 | 2025-06-15 | Deleting 9681106_2025-06-15_13-14-49.png\n",
      "015 | 2025-06-05 | Deleting 9686637_2025-06-05_02-59-34.png\n",
      "016 | 2025-06-05 | Deleting 9686637_2025-06-05_02-59-34_flw.png\n",
      "017 | 2025-07-18 | Deleting 9701554_2025-07-18_02-34-19.png\n",
      "018 | 2025-07-18 | Deleting 9701554_2025-07-18_02-34-19_flw.png\n",
      "019 | 2025-07-05 | Deleting 9707845_2025-07-05_10-53-09.png\n",
      "020 | 2025-06-27 | Deleting 9719721_2025-06-27_02-59-51.png\n",
      "023 | 2025-06-20 | Deleting 9740469_2025-06-20_02-40-01.png\n",
      "024 | 2025-06-20 | Deleting 9740469_2025-06-20_02-40-01_flw.png\n",
      "026 | 2025-06-11 | Deleting 9828211_2025-06-11_10-59-54.png\n",
      "027 | 2025-06-30 | Deleting 9828895_2025-06-30_13-04-37.png\n",
      "028 | 2025-05-27 | Deleting 9829485_2025-05-27_17-07-15.png\n",
      "029 | 2025-07-22 | Deleting 9857250_2025-07-22_18-24-43.png\n",
      "030 | 2025-07-22 | Deleting 9857250_2025-07-22_18-24-43_flw.png\n",
      "031 | 2025-07-09 | Deleting 9865116_2025-07-09_18-34-24.png\n",
      "032 | 2025-07-09 | Deleting 9865116_2025-07-09_18-34-24_flw.png\n"
     ]
    }
   ],
   "source": [
    "# Read all png files in the current directory\n",
    "files = [f for f in os.listdir('.') if f.endswith('.png')]\n",
    "for i, file in enumerate(files):\n",
    "    # file_date = datetime.datetime.fromtimestamp(os.path.getmtime(file))\n",
    "    file_date = file.split('_')[1]\n",
    "    # print(file_date)\n",
    "    if file_date < two_months_ago:\n",
    "        print(f\"{str(i).zfill(3)} | {file_date} | Deleting {file}\")\n",
    "        os.remove(file)\n",
    "        # time.sleep(1)\n",
    "    else:\n",
    "        pass\n",
    "        # print(f\"{str(i).zfill(3)} | {file_date} | Keeping {file}\")"
   ]
  },
  {
   "cell_type": "code",
   "execution_count": null,
   "metadata": {},
   "outputs": [],
   "source": []
  }
 ],
 "metadata": {
  "kernelspec": {
   "display_name": "env-pytorch",
   "language": "python",
   "name": "python3"
  },
  "language_info": {
   "codemirror_mode": {
    "name": "ipython",
    "version": 3
   },
   "file_extension": ".py",
   "mimetype": "text/x-python",
   "name": "python",
   "nbconvert_exporter": "python",
   "pygments_lexer": "ipython3",
   "version": "3.9.21"
  }
 },
 "nbformat": 4,
 "nbformat_minor": 2
}
