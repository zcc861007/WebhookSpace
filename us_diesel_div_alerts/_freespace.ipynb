{
 "cells": [
  {
   "cell_type": "code",
   "execution_count": 1,
   "metadata": {},
   "outputs": [],
   "source": [
    "import os\n",
    "import datetime\n",
    "import time"
   ]
  },
  {
   "cell_type": "code",
   "execution_count": 2,
   "metadata": {},
   "outputs": [
    {
     "data": {
      "text/plain": [
       "'/Users/czp3317/Desktop/Working/Projects/WebhookSpace/us_diesel_div_alerts'"
      ]
     },
     "execution_count": 2,
     "metadata": {},
     "output_type": "execute_result"
    }
   ],
   "source": [
    "os.getcwd()"
   ]
  },
  {
   "cell_type": "code",
   "execution_count": 3,
   "metadata": {},
   "outputs": [
    {
     "name": "stdout",
     "output_type": "stream",
     "text": [
      "2025-05-22\n"
     ]
    }
   ],
   "source": [
    "date_now = datetime.datetime.now()\n",
    "two_months_ago = date_now - datetime.timedelta(days=30)\n",
    "two_months_ago = two_months_ago.strftime('%Y-%m-%d')\n",
    "# two_months_ago = '2025-02-10'\n",
    "print(two_months_ago)"
   ]
  },
  {
   "cell_type": "code",
   "execution_count": 4,
   "metadata": {},
   "outputs": [
    {
     "name": "stdout",
     "output_type": "stream",
     "text": [
      "000 | 2025-03-05 | Deleting 9934149_2025-03-05_03-19-07.png\n",
      "001 | 2025-04-19 | Deleting 9893204_2025-04-19_02-01-38.png\n",
      "003 | 2025-04-21 | Deleting 9267558_2025-04-21_13-12-48_flw.png\n",
      "004 | 2025-02-19 | Deleting 9299159_2025-02-19_19-32-25.png\n",
      "005 | 2025-03-03 | Deleting 9321562_2025-03-03_20-00-06.png\n",
      "006 | 2025-04-01 | Deleting 9708588_2025-04-01_10-53-27.png\n",
      "007 | 2025-03-15 | Deleting 9433597_2025-03-15_15-00-00_flw.png\n",
      "008 | 2025-04-09 | Deleting 9719692_2025-04-09_03-00-04.png\n",
      "009 | 2025-02-23 | Deleting 9947378_2025-02-23_22-41-59.png\n",
      "010 | 2025-03-02 | Deleting 9692844_2025-03-02_19-59-57.png\n",
      "011 | 2025-04-06 | Deleting 9779953_2025-04-06_02-59-51.png\n",
      "013 | 2025-02-25 | Deleting 9953456_2025-02-25_16-57-21.png\n",
      "014 | 2025-03-01 | Deleting 9923932_2025-03-01_23-51-37.png\n",
      "016 | 2025-03-09 | Deleting 9955997_2025-03-09_04-34-55.png\n",
      "017 | 2025-03-01 | Deleting 9924015_2025-03-01_23-41-47.png\n",
      "018 | 2025-04-21 | Deleting 9387920_2025-04-21_15-00-12.png\n",
      "019 | 2025-03-03 | Deleting 9692363_2025-03-03_21-55-37.png\n",
      "020 | 2025-03-19 | Deleting 9413688_2025-03-19_14-51-56.png\n",
      "022 | 2025-02-23 | Deleting 9726463_2025-02-23_23-54-48.png\n",
      "023 | 2025-04-08 | Deleting 9629706_2025-04-08_22-34-37.png\n",
      "024 | 2025-02-22 | Deleting 9730880_2025-02-22_03-58-29.png\n",
      "025 | 2025-02-25 | Deleting 9729245_2025-02-25_19-58-47.png\n",
      "026 | 2025-03-03 | Deleting 9321562_2025-03-03_20-00-06_flw.png\n",
      "027 | 2025-03-25 | Deleting 9893163_2025-03-25_02-53-31.png\n",
      "028 | 2025-02-21 | Deleting 9853840_2025-02-21_19-59-28.png\n",
      "029 | 2025-02-19 | Deleting 9411991_2025-02-19_05-27-40.png\n",
      "030 | 2025-04-12 | Deleting 9282510_2025-04-12_06-31-29.png\n",
      "031 | 2025-03-12 | Deleting 9888340_2025-03-12_10-59-19_flw.png\n",
      "032 | 2025-03-07 | Deleting 9955997_2025-03-07_03-59-38.png\n",
      "033 | 2025-05-17 | Deleting 9697595_2025-05-17_22-59-07.png\n",
      "034 | 2025-03-02 | Deleting 9708239_2025-03-02_07-47-21.png\n",
      "035 | 2025-03-07 | Deleting 9955997_2025-03-07_03-59-38_flw.png\n",
      "036 | 2025-04-08 | Deleting 9629706_2025-04-08_22-34-37_flw.png\n",
      "037 | 2025-02-18 | Deleting 9945306_2025-02-18_23-57-17_flw.png\n",
      "038 | 2025-03-04 | Deleting 9721918_2025-03-04_19-47-02.png\n",
      "039 | 2025-04-21 | Deleting 9267558_2025-04-21_13-12-48.png\n",
      "041 | 2025-05-01 | Deleting 9997969_2025-05-01_06-21-52.png\n",
      "042 | 2025-05-18 | Deleting 9774563_2025-05-18_05-06-49.png\n",
      "043 | 2025-03-15 | Deleting 9433597_2025-03-15_23-00-09_flw.png\n",
      "044 | 2025-05-17 | Deleting 9697595_2025-05-17_22-59-07_flw.png\n",
      "045 | 2025-03-28 | Deleting 9381835_2025-03-28_16-09-05_flw.png\n",
      "046 | 2025-03-13 | Deleting 9850692_2025-03-13_06-41-08.png\n",
      "047 | 2025-04-04 | Deleting 9337523_2025-04-04_13-44-43.png\n",
      "048 | 2025-04-12 | Deleting 9282510_2025-04-12_06-31-29_flw.png\n",
      "049 | 2025-04-21 | Deleting 9387920_2025-04-21_15-00-12_flw.png\n",
      "050 | 2025-03-12 | Deleting 9888340_2025-03-12_10-59-19.png\n",
      "051 | 2025-02-17 | Deleting 9332028_2025-02-17_17-58-21.png\n",
      "052 | 2025-03-02 | Deleting 9924015_2025-03-02_02-08-37.png\n",
      "053 | 2025-03-28 | Deleting 9381835_2025-03-28_16-09-05.png\n",
      "054 | 2025-03-15 | Deleting 9433597_2025-03-15_23-00-09.png\n",
      "055 | 2025-03-01 | Deleting 9323364_2025-03-01_09-23-30_flw.png\n",
      "056 | 2025-04-22 | Deleting 9828223_2025-04-22_18-12-02.png\n",
      "057 | 2025-02-21 | Deleting 9853840_2025-02-21_23-59-39.png\n",
      "058 | 2025-03-15 | Deleting 9433597_2025-03-15_15-00-00.png\n",
      "059 | 2025-03-01 | Deleting 9612052_2025-03-01_11-58-30.png\n",
      "060 | 2025-02-17 | Deleting 9308235_2025-02-17_18-59-33.png\n",
      "062 | 2025-03-14 | Deleting 9893163_2025-03-14_02-59-29.png\n",
      "063 | 2025-03-01 | Deleting 9612052_2025-03-01_11-58-30_flw.png\n",
      "064 | 2025-02-18 | Deleting 9850707_2025-02-18_11-37-40.png\n",
      "065 | 2025-02-21 | Deleting 9730880_2025-02-21_23-58-29.png\n",
      "066 | 2025-03-30 | Deleting 9372858_2025-03-30_18-55-25.png\n",
      "067 | 2025-03-02 | Deleting 9708239_2025-03-02_07-47-21_flw.png\n",
      "068 | 2025-02-17 | Deleting 9533995_2025-02-17_18-59-17.png\n",
      "069 | 2025-03-01 | Deleting 9323364_2025-03-01_09-23-30.png\n",
      "070 | 2025-04-05 | Deleting 9607710_2025-04-05_02-59-42.png\n",
      "071 | 2025-02-18 | Deleting 9945306_2025-02-18_23-57-17.png\n",
      "072 | 2025-03-12 | Deleting 9850692_2025-03-12_18-47-57.png\n",
      "073 | 2025-04-22 | Deleting 9828223_2025-04-22_18-12-02_flw.png\n",
      "076 | 2025-02-28 | Deleting 9857212_2025-02-28_03-27-06.png\n",
      "077 | 2025-04-28 | Deleting 9447756_2025-04-28_18-59-54.png\n",
      "078 | 2025-04-05 | Deleting 9690808_2025-04-05_18-46-11.png\n",
      "079 | 2025-03-25 | Deleting 9893163_2025-03-25_02-53-31_flw.png\n",
      "080 | 2025-05-18 | Deleting 9774563_2025-05-18_05-06-49_flw.png\n",
      "081 | 2025-04-21 | Deleting 9749685_2025-04-21_02-41-50_flw.png\n",
      "082 | 2025-04-21 | Deleting 9749685_2025-04-21_02-41-50.png\n",
      "083 | 2025-04-10 | Deleting 9547714_2025-04-10_15-57-39.png\n"
     ]
    }
   ],
   "source": [
    "# Read all png files in the current directory\n",
    "files = [f for f in os.listdir('.') if f.endswith('.png')]\n",
    "for i, file in enumerate(files):\n",
    "    # file_date = datetime.datetime.fromtimestamp(os.path.getmtime(file))\n",
    "    file_date = file.split('_')[1]\n",
    "    # print(file_date)\n",
    "    if file_date < two_months_ago:\n",
    "        print(f\"{str(i).zfill(3)} | {file_date} | Deleting {file}\")\n",
    "        os.remove(file)\n",
    "        # time.sleep(1)\n",
    "    else:\n",
    "        pass\n",
    "        # print(f\"{str(i).zfill(3)} | {file_date} | Keeping {file}\")"
   ]
  },
  {
   "cell_type": "code",
   "execution_count": null,
   "metadata": {},
   "outputs": [],
   "source": []
  }
 ],
 "metadata": {
  "kernelspec": {
   "display_name": "Python 3",
   "language": "python",
   "name": "python3"
  },
  "language_info": {
   "codemirror_mode": {
    "name": "ipython",
    "version": 3
   },
   "file_extension": ".py",
   "mimetype": "text/x-python",
   "name": "python",
   "nbconvert_exporter": "python",
   "pygments_lexer": "ipython3",
   "version": "3.11.0"
  }
 },
 "nbformat": 4,
 "nbformat_minor": 2
}
